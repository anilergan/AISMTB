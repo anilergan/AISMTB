{
 "cells": [
  {
   "cell_type": "code",
   "execution_count": 2,
   "metadata": {},
   "outputs": [
    {
     "name": "stdout",
     "output_type": "stream",
     "text": [
      "            value  other_column\n",
      "2023-08-01     10           100\n",
      "2023-08-02     20           200\n",
      "2023-08-03     30           300\n",
      "2023-08-04     40           400\n",
      "2023-08-05     50           500\n",
      "2023-08-06     60           600\n",
      "2023-08-07     70           700\n",
      "2023-08-08     80           800\n"
     ]
    }
   ],
   "source": [
    "import pandas as pd\n",
    "\n",
    "# Örnek veri oluşturma (index: datetime formatında)\n",
    "data = {'value': [10, 20, 30, 40, 50, 60, 70, 80],\n",
    "        'other_column': [100, 200, 300, 400, 500, 600, 700, 800]}\n",
    "\n",
    "index = pd.date_range(start='2023-08-01', periods=8, freq='D')\n",
    "df = pd.DataFrame(data, index=index)\n",
    "\n",
    "print(df)"
   ]
  },
  {
   "cell_type": "code",
   "execution_count": 3,
   "metadata": {},
   "outputs": [
    {
     "name": "stdout",
     "output_type": "stream",
     "text": [
      "            value  other_column\n",
      "2023-08-01    NaN           NaN\n",
      "2023-08-02    NaN           NaN\n",
      "2023-08-03    NaN           NaN\n",
      "2023-08-04   10.0         100.0\n",
      "2023-08-05   20.0         200.0\n",
      "2023-08-06   30.0         300.0\n",
      "2023-08-07   40.0         400.0\n",
      "2023-08-08   50.0         500.0\n"
     ]
    }
   ],
   "source": [
    "import pandas as pd\n",
    "\n",
    "# Örnek veri oluşturma (index: datetime formatında)\n",
    "data = {'value': [10, 20, 30, 40, 50, 60, 70, 80],\n",
    "        'other_column': [100, 200, 300, 400, 500, 600, 700, 800]}\n",
    "\n",
    "index = pd.date_range(start='2023-08-01', periods=8, freq='D')\n",
    "df = pd.DataFrame(data, index=index)\n",
    "\n",
    "# Tüm verileri 3 gün ileri kaydırma\n",
    "shifted_df = df.shift(periods=3, fill_value=None)\n",
    "\n",
    "print(shifted_df)"
   ]
  },
  {
   "cell_type": "code",
   "execution_count": 4,
   "metadata": {},
   "outputs": [
    {
     "name": "stdout",
     "output_type": "stream",
     "text": [
      "            value  other_column\n",
      "2023-08-01    NaN           100\n",
      "2023-08-02    NaN           200\n",
      "2023-08-03    NaN           300\n",
      "2023-08-04   10.0           400\n",
      "2023-08-05   20.0           500\n",
      "2023-08-06   30.0           600\n",
      "2023-08-07   40.0           700\n",
      "2023-08-08   50.0           800\n"
     ]
    }
   ],
   "source": [
    "import pandas as pd\n",
    "\n",
    "# Örnek veri oluşturma (index: datetime formatında)\n",
    "data = {'value': [10, 20, 30, 40, 50, 60, 70, 80],\n",
    "        'other_column': [100, 200, 300, 400, 500, 600, 700, 800]}\n",
    "\n",
    "index = pd.date_range(start='2023-08-01', periods=8, freq='D')\n",
    "df = pd.DataFrame(data, index=index)\n",
    "\n",
    "# 'value' sütununu 3 gün ileri kaydırma\n",
    "df['value'] = df['value'].shift(3)\n",
    "\n",
    "# Eğer 'value' sütununu 3 gün geri kaydırmak isterseniz:\n",
    "# df['value'] = df['value'].shift(3)\n",
    "\n",
    "print(df)"
   ]
  },
  {
   "cell_type": "markdown",
   "metadata": {},
   "source": [
    "---"
   ]
  },
  {
   "cell_type": "code",
   "execution_count": 5,
   "metadata": {},
   "outputs": [
    {
     "name": "stdout",
     "output_type": "stream",
     "text": [
      "            value\n",
      "2023-08-01     10\n",
      "2023-08-02     20\n",
      "2023-08-03     30\n",
      "2023-08-04     40\n",
      "2023-08-05     50\n",
      "2023-08-06     60\n",
      "2023-08-07     70\n",
      "2023-08-08     80\n"
     ]
    }
   ],
   "source": [
    "import pandas as pd\n",
    "\n",
    "data = {'value': [10, 20, 30, 40, 50, 60, 70, 80]}\n",
    "index = pd.date_range(start='2023-08-01', periods=len(data['value']), freq='D')\n",
    "\n",
    "df = pd.DataFrame(data, index=index)\n",
    "print(df)"
   ]
  },
  {
   "cell_type": "code",
   "execution_count": 6,
   "metadata": {},
   "outputs": [
    {
     "name": "stdout",
     "output_type": "stream",
     "text": [
      "2023-08-01    100\n",
      "2023-08-02    200\n",
      "2023-08-03    300\n",
      "2023-08-04    400\n",
      "2023-08-05    500\n",
      "2023-08-06    600\n",
      "2023-08-07    700\n",
      "2023-08-08    800\n",
      "Freq: D, dtype: int64\n"
     ]
    }
   ],
   "source": [
    "import pandas as pd\n",
    "\n",
    "data = {'other_column': [100, 200, 300, 400, 500, 600, 700, 800]}\n",
    "index = pd.date_range(start='2023-08-01', periods=len(data['other_column']), freq='D')\n",
    "\n",
    "other_column = pd.Series(data['other_column'], index=index)\n",
    "print(other_column)\n"
   ]
  },
  {
   "cell_type": "code",
   "execution_count": 7,
   "metadata": {},
   "outputs": [
    {
     "name": "stdout",
     "output_type": "stream",
     "text": [
      "2023-08-04    10\n",
      "2023-08-05    20\n",
      "2023-08-06    30\n",
      "2023-08-07    40\n",
      "2023-08-08    50\n",
      "2023-08-09    60\n",
      "2023-08-10    70\n",
      "2023-08-11    80\n",
      "dtype: int64\n"
     ]
    }
   ],
   "source": [
    "import pandas as pd\n",
    "\n",
    "# Örnek veri oluşturma (index: datetime formatında)\n",
    "data = {'value': [10, 20, 30, 40, 50, 60, 70, 80]}\n",
    "index = pd.date_range(start='2023-08-01', periods=len(data['value']), freq='D')\n",
    "\n",
    "value_series = pd.Series(data['value'], index=index)\n",
    "shifted_value_series = value_series.copy()\n",
    "shifted_value_series.index = shifted_value_series.index + pd.DateOffset(days=3)\n",
    "\n",
    "print(shifted_value_series)"
   ]
  },
  {
   "cell_type": "code",
   "execution_count": 8,
   "metadata": {},
   "outputs": [
    {
     "data": {
      "text/plain": [
       "2023-08-01    100\n",
       "2023-08-02    200\n",
       "2023-08-03    300\n",
       "2023-08-04    400\n",
       "2023-08-05    500\n",
       "2023-08-06    600\n",
       "2023-08-07    700\n",
       "2023-08-08    800\n",
       "Freq: D, dtype: int64"
      ]
     },
     "execution_count": 8,
     "metadata": {},
     "output_type": "execute_result"
    }
   ],
   "source": [
    "other_column"
   ]
  },
  {
   "cell_type": "code",
   "execution_count": 9,
   "metadata": {},
   "outputs": [],
   "source": [
    "df_concat = pd.concat([shifted_value_series,other_column ], axis=1)"
   ]
  },
  {
   "cell_type": "code",
   "execution_count": 10,
   "metadata": {},
   "outputs": [
    {
     "data": {
      "text/html": [
       "<div>\n",
       "<style scoped>\n",
       "    .dataframe tbody tr th:only-of-type {\n",
       "        vertical-align: middle;\n",
       "    }\n",
       "\n",
       "    .dataframe tbody tr th {\n",
       "        vertical-align: top;\n",
       "    }\n",
       "\n",
       "    .dataframe thead th {\n",
       "        text-align: right;\n",
       "    }\n",
       "</style>\n",
       "<table border=\"1\" class=\"dataframe\">\n",
       "  <thead>\n",
       "    <tr style=\"text-align: right;\">\n",
       "      <th></th>\n",
       "      <th>0</th>\n",
       "      <th>1</th>\n",
       "    </tr>\n",
       "  </thead>\n",
       "  <tbody>\n",
       "    <tr>\n",
       "      <th>2023-08-01</th>\n",
       "      <td>NaN</td>\n",
       "      <td>100.0</td>\n",
       "    </tr>\n",
       "    <tr>\n",
       "      <th>2023-08-02</th>\n",
       "      <td>NaN</td>\n",
       "      <td>200.0</td>\n",
       "    </tr>\n",
       "    <tr>\n",
       "      <th>2023-08-03</th>\n",
       "      <td>NaN</td>\n",
       "      <td>300.0</td>\n",
       "    </tr>\n",
       "    <tr>\n",
       "      <th>2023-08-04</th>\n",
       "      <td>10.0</td>\n",
       "      <td>400.0</td>\n",
       "    </tr>\n",
       "    <tr>\n",
       "      <th>2023-08-05</th>\n",
       "      <td>20.0</td>\n",
       "      <td>500.0</td>\n",
       "    </tr>\n",
       "    <tr>\n",
       "      <th>2023-08-06</th>\n",
       "      <td>30.0</td>\n",
       "      <td>600.0</td>\n",
       "    </tr>\n",
       "    <tr>\n",
       "      <th>2023-08-07</th>\n",
       "      <td>40.0</td>\n",
       "      <td>700.0</td>\n",
       "    </tr>\n",
       "    <tr>\n",
       "      <th>2023-08-08</th>\n",
       "      <td>50.0</td>\n",
       "      <td>800.0</td>\n",
       "    </tr>\n",
       "    <tr>\n",
       "      <th>2023-08-09</th>\n",
       "      <td>60.0</td>\n",
       "      <td>NaN</td>\n",
       "    </tr>\n",
       "    <tr>\n",
       "      <th>2023-08-10</th>\n",
       "      <td>70.0</td>\n",
       "      <td>NaN</td>\n",
       "    </tr>\n",
       "    <tr>\n",
       "      <th>2023-08-11</th>\n",
       "      <td>80.0</td>\n",
       "      <td>NaN</td>\n",
       "    </tr>\n",
       "  </tbody>\n",
       "</table>\n",
       "</div>"
      ],
      "text/plain": [
       "               0      1\n",
       "2023-08-01   NaN  100.0\n",
       "2023-08-02   NaN  200.0\n",
       "2023-08-03   NaN  300.0\n",
       "2023-08-04  10.0  400.0\n",
       "2023-08-05  20.0  500.0\n",
       "2023-08-06  30.0  600.0\n",
       "2023-08-07  40.0  700.0\n",
       "2023-08-08  50.0  800.0\n",
       "2023-08-09  60.0    NaN\n",
       "2023-08-10  70.0    NaN\n",
       "2023-08-11  80.0    NaN"
      ]
     },
     "execution_count": 10,
     "metadata": {},
     "output_type": "execute_result"
    }
   ],
   "source": [
    "df_concat"
   ]
  },
  {
   "cell_type": "code",
   "execution_count": 11,
   "metadata": {},
   "outputs": [],
   "source": [
    "# Örnek veri oluşturma\n",
    "import numpy as np\n",
    "np.random.seed(42)\n",
    "date_rng = pd.date_range(start='2023-01-01', end='2023-08-01', freq='D')\n",
    "data = np.sin(np.arange(len(date_rng))) + np.random.normal(0, 0.1, size=len(date_rng))\n",
    "df = pd.DataFrame(data, columns=['value'], index=date_rng)\n",
    "\n",
    "# Lag özellikleri oluşturma (önceki değerler)\n",
    "for i in range(1, 8):\n",
    "    df[f'lag_{i}'] = df['value'].shift(i)"
   ]
  },
  {
   "cell_type": "code",
   "execution_count": 12,
   "metadata": {},
   "outputs": [
    {
     "data": {
      "text/html": [
       "<div>\n",
       "<style scoped>\n",
       "    .dataframe tbody tr th:only-of-type {\n",
       "        vertical-align: middle;\n",
       "    }\n",
       "\n",
       "    .dataframe tbody tr th {\n",
       "        vertical-align: top;\n",
       "    }\n",
       "\n",
       "    .dataframe thead th {\n",
       "        text-align: right;\n",
       "    }\n",
       "</style>\n",
       "<table border=\"1\" class=\"dataframe\">\n",
       "  <thead>\n",
       "    <tr style=\"text-align: right;\">\n",
       "      <th></th>\n",
       "      <th>value</th>\n",
       "      <th>lag_1</th>\n",
       "      <th>lag_2</th>\n",
       "      <th>lag_3</th>\n",
       "      <th>lag_4</th>\n",
       "      <th>lag_5</th>\n",
       "      <th>lag_6</th>\n",
       "      <th>lag_7</th>\n",
       "    </tr>\n",
       "  </thead>\n",
       "  <tbody>\n",
       "    <tr>\n",
       "      <th>2023-01-01</th>\n",
       "      <td>0.049671</td>\n",
       "      <td>NaN</td>\n",
       "      <td>NaN</td>\n",
       "      <td>NaN</td>\n",
       "      <td>NaN</td>\n",
       "      <td>NaN</td>\n",
       "      <td>NaN</td>\n",
       "      <td>NaN</td>\n",
       "    </tr>\n",
       "    <tr>\n",
       "      <th>2023-01-02</th>\n",
       "      <td>0.827645</td>\n",
       "      <td>0.049671</td>\n",
       "      <td>NaN</td>\n",
       "      <td>NaN</td>\n",
       "      <td>NaN</td>\n",
       "      <td>NaN</td>\n",
       "      <td>NaN</td>\n",
       "      <td>NaN</td>\n",
       "    </tr>\n",
       "    <tr>\n",
       "      <th>2023-01-03</th>\n",
       "      <td>0.974066</td>\n",
       "      <td>0.827645</td>\n",
       "      <td>0.049671</td>\n",
       "      <td>NaN</td>\n",
       "      <td>NaN</td>\n",
       "      <td>NaN</td>\n",
       "      <td>NaN</td>\n",
       "      <td>NaN</td>\n",
       "    </tr>\n",
       "    <tr>\n",
       "      <th>2023-01-04</th>\n",
       "      <td>0.293423</td>\n",
       "      <td>0.974066</td>\n",
       "      <td>0.827645</td>\n",
       "      <td>0.049671</td>\n",
       "      <td>NaN</td>\n",
       "      <td>NaN</td>\n",
       "      <td>NaN</td>\n",
       "      <td>NaN</td>\n",
       "    </tr>\n",
       "    <tr>\n",
       "      <th>2023-01-05</th>\n",
       "      <td>-0.780218</td>\n",
       "      <td>0.293423</td>\n",
       "      <td>0.974066</td>\n",
       "      <td>0.827645</td>\n",
       "      <td>0.049671</td>\n",
       "      <td>NaN</td>\n",
       "      <td>NaN</td>\n",
       "      <td>NaN</td>\n",
       "    </tr>\n",
       "    <tr>\n",
       "      <th>...</th>\n",
       "      <td>...</td>\n",
       "      <td>...</td>\n",
       "      <td>...</td>\n",
       "      <td>...</td>\n",
       "      <td>...</td>\n",
       "      <td>...</td>\n",
       "      <td>...</td>\n",
       "      <td>...</td>\n",
       "    </tr>\n",
       "    <tr>\n",
       "      <th>2023-07-28</th>\n",
       "      <td>0.660573</td>\n",
       "      <td>-0.286926</td>\n",
       "      <td>-0.923138</td>\n",
       "      <td>-0.808680</td>\n",
       "      <td>0.064353</td>\n",
       "      <td>1.038690</td>\n",
       "      <td>0.914724</td>\n",
       "      <td>-0.005812</td>\n",
       "    </tr>\n",
       "    <tr>\n",
       "      <th>2023-07-29</th>\n",
       "      <td>1.381740</td>\n",
       "      <td>0.660573</td>\n",
       "      <td>-0.286926</td>\n",
       "      <td>-0.923138</td>\n",
       "      <td>-0.808680</td>\n",
       "      <td>0.064353</td>\n",
       "      <td>1.038690</td>\n",
       "      <td>0.914724</td>\n",
       "    </tr>\n",
       "    <tr>\n",
       "      <th>2023-07-30</th>\n",
       "      <td>0.524808</td>\n",
       "      <td>1.381740</td>\n",
       "      <td>0.660573</td>\n",
       "      <td>-0.286926</td>\n",
       "      <td>-0.923138</td>\n",
       "      <td>-0.808680</td>\n",
       "      <td>0.064353</td>\n",
       "      <td>1.038690</td>\n",
       "    </tr>\n",
       "    <tr>\n",
       "      <th>2023-07-31</th>\n",
       "      <td>-0.377491</td>\n",
       "      <td>0.524808</td>\n",
       "      <td>1.381740</td>\n",
       "      <td>0.660573</td>\n",
       "      <td>-0.286926</td>\n",
       "      <td>-0.923138</td>\n",
       "      <td>-0.808680</td>\n",
       "      <td>0.064353</td>\n",
       "    </tr>\n",
       "    <tr>\n",
       "      <th>2023-08-01</th>\n",
       "      <td>-0.902947</td>\n",
       "      <td>-0.377491</td>\n",
       "      <td>0.524808</td>\n",
       "      <td>1.381740</td>\n",
       "      <td>0.660573</td>\n",
       "      <td>-0.286926</td>\n",
       "      <td>-0.923138</td>\n",
       "      <td>-0.808680</td>\n",
       "    </tr>\n",
       "  </tbody>\n",
       "</table>\n",
       "<p>213 rows × 8 columns</p>\n",
       "</div>"
      ],
      "text/plain": [
       "               value     lag_1     lag_2     lag_3     lag_4     lag_5  \\\n",
       "2023-01-01  0.049671       NaN       NaN       NaN       NaN       NaN   \n",
       "2023-01-02  0.827645  0.049671       NaN       NaN       NaN       NaN   \n",
       "2023-01-03  0.974066  0.827645  0.049671       NaN       NaN       NaN   \n",
       "2023-01-04  0.293423  0.974066  0.827645  0.049671       NaN       NaN   \n",
       "2023-01-05 -0.780218  0.293423  0.974066  0.827645  0.049671       NaN   \n",
       "...              ...       ...       ...       ...       ...       ...   \n",
       "2023-07-28  0.660573 -0.286926 -0.923138 -0.808680  0.064353  1.038690   \n",
       "2023-07-29  1.381740  0.660573 -0.286926 -0.923138 -0.808680  0.064353   \n",
       "2023-07-30  0.524808  1.381740  0.660573 -0.286926 -0.923138 -0.808680   \n",
       "2023-07-31 -0.377491  0.524808  1.381740  0.660573 -0.286926 -0.923138   \n",
       "2023-08-01 -0.902947 -0.377491  0.524808  1.381740  0.660573 -0.286926   \n",
       "\n",
       "               lag_6     lag_7  \n",
       "2023-01-01       NaN       NaN  \n",
       "2023-01-02       NaN       NaN  \n",
       "2023-01-03       NaN       NaN  \n",
       "2023-01-04       NaN       NaN  \n",
       "2023-01-05       NaN       NaN  \n",
       "...              ...       ...  \n",
       "2023-07-28  0.914724 -0.005812  \n",
       "2023-07-29  1.038690  0.914724  \n",
       "2023-07-30  0.064353  1.038690  \n",
       "2023-07-31 -0.808680  0.064353  \n",
       "2023-08-01 -0.923138 -0.808680  \n",
       "\n",
       "[213 rows x 8 columns]"
      ]
     },
     "execution_count": 12,
     "metadata": {},
     "output_type": "execute_result"
    }
   ],
   "source": [
    "df"
   ]
  },
  {
   "cell_type": "code",
   "execution_count": 13,
   "metadata": {},
   "outputs": [],
   "source": [
    "import numpy as np"
   ]
  },
  {
   "cell_type": "code",
   "execution_count": 14,
   "metadata": {},
   "outputs": [],
   "source": [
    "X_liste = []\n",
    "\n",
    "for i in range(10):\n",
    "    X_liste.append(np.random.randint(1,100,size=(2, 5)))\n"
   ]
  },
  {
   "cell_type": "code",
   "execution_count": 15,
   "metadata": {},
   "outputs": [
    {
     "data": {
      "text/plain": [
       "(10, 2, 5)"
      ]
     },
     "execution_count": 15,
     "metadata": {},
     "output_type": "execute_result"
    }
   ],
   "source": [
    "arr = np.array(X_liste)\n",
    "arr.shape"
   ]
  },
  {
   "cell_type": "code",
   "execution_count": 16,
   "metadata": {},
   "outputs": [
    {
     "data": {
      "text/plain": [
       "array([[[76, 87, 15, 92, 98],\n",
       "        [66, 32, 87, 63, 86]],\n",
       "\n",
       "       [[51, 25, 58, 63, 62],\n",
       "        [22, 58, 58, 86, 49]],\n",
       "\n",
       "       [[52, 42, 70, 15, 54],\n",
       "        [60, 97,  8, 53, 60]],\n",
       "\n",
       "       [[ 5, 68,  6, 96, 94],\n",
       "        [47, 99, 55, 40, 52]],\n",
       "\n",
       "       [[16, 13, 30, 19, 17],\n",
       "        [63, 19, 92, 58, 55]],\n",
       "\n",
       "       [[90, 90, 62, 23,  9],\n",
       "        [12,  1, 58,  1, 34]],\n",
       "\n",
       "       [[96, 48, 89,  1, 16],\n",
       "        [61, 64, 63, 69, 22]],\n",
       "\n",
       "       [[93, 67, 76, 26, 16],\n",
       "        [51, 86, 57, 29, 78]],\n",
       "\n",
       "       [[92, 69, 47, 94, 62],\n",
       "        [69, 76, 16, 90, 90]],\n",
       "\n",
       "       [[48, 85, 39, 33, 94],\n",
       "        [23, 10, 69, 34, 52]]])"
      ]
     },
     "execution_count": 16,
     "metadata": {},
     "output_type": "execute_result"
    }
   ],
   "source": [
    "arr"
   ]
  },
  {
   "cell_type": "code",
   "execution_count": 17,
   "metadata": {},
   "outputs": [
    {
     "name": "stdout",
     "output_type": "stream",
     "text": [
      "10\n",
      "9\n",
      "8\n",
      "7\n",
      "6\n",
      "5\n",
      "4\n",
      "3\n",
      "2\n",
      "1\n"
     ]
    }
   ],
   "source": [
    "for i in range(10, 0, -1):\n",
    "    print(i)"
   ]
  },
  {
   "cell_type": "code",
   "execution_count": 18,
   "metadata": {},
   "outputs": [
    {
     "data": {
      "text/plain": [
       "array([100, 101, 102, 103])"
      ]
     },
     "execution_count": 18,
     "metadata": {},
     "output_type": "execute_result"
    }
   ],
   "source": [
    "import numpy as np\n",
    "u = np.array([1,2,3,4,5,100,101,102,103])\n",
    "u[5:]"
   ]
  },
  {
   "cell_type": "code",
   "execution_count": 19,
   "metadata": {},
   "outputs": [
    {
     "data": {
      "text/plain": [
       "(9,)"
      ]
     },
     "execution_count": 19,
     "metadata": {},
     "output_type": "execute_result"
    }
   ],
   "source": [
    "u.shape"
   ]
  },
  {
   "cell_type": "code",
   "execution_count": 20,
   "metadata": {},
   "outputs": [
    {
     "data": {
      "text/plain": [
       "(1, 3)"
      ]
     },
     "execution_count": 20,
     "metadata": {},
     "output_type": "execute_result"
    }
   ],
   "source": [
    "w = np.array([[1, 2, 3]])\n",
    "\n",
    "w.shape"
   ]
  },
  {
   "cell_type": "code",
   "execution_count": 21,
   "metadata": {},
   "outputs": [],
   "source": [
    "ar = np.array([[1],[7],[8]])"
   ]
  },
  {
   "cell_type": "code",
   "execution_count": 22,
   "metadata": {},
   "outputs": [
    {
     "data": {
      "text/plain": [
       "(1, 3)"
      ]
     },
     "execution_count": 22,
     "metadata": {},
     "output_type": "execute_result"
    }
   ],
   "source": [
    "w.shape"
   ]
  },
  {
   "cell_type": "code",
   "execution_count": 23,
   "metadata": {},
   "outputs": [
    {
     "data": {
      "text/plain": [
       "(3, 1)"
      ]
     },
     "execution_count": 23,
     "metadata": {},
     "output_type": "execute_result"
    }
   ],
   "source": [
    "ar.shape"
   ]
  },
  {
   "cell_type": "code",
   "execution_count": 24,
   "metadata": {},
   "outputs": [],
   "source": [
    "wr = w.reshape(-1, 1)"
   ]
  },
  {
   "cell_type": "code",
   "execution_count": 25,
   "metadata": {},
   "outputs": [
    {
     "data": {
      "text/plain": [
       "(6, 1)"
      ]
     },
     "execution_count": 25,
     "metadata": {},
     "output_type": "execute_result"
    }
   ],
   "source": [
    "uw = np.concatenate((ar, wr), axis = 0)\n",
    "uw.shape"
   ]
  },
  {
   "cell_type": "code",
   "execution_count": 26,
   "metadata": {},
   "outputs": [
    {
     "data": {
      "text/plain": [
       "array([[ 1,  2,  3, 10, 20, 30,  4]])"
      ]
     },
     "execution_count": 26,
     "metadata": {},
     "output_type": "execute_result"
    }
   ],
   "source": [
    "u1 = np.array([[1,2,3]])\n",
    "u2 = np.array([[10,20,30,4]])\n",
    "\n",
    "np.concatenate((u1, u2), axis=1)"
   ]
  },
  {
   "cell_type": "code",
   "execution_count": 27,
   "metadata": {},
   "outputs": [
    {
     "data": {
      "text/plain": [
       "array([[1, 2, 3]])"
      ]
     },
     "execution_count": 27,
     "metadata": {},
     "output_type": "execute_result"
    }
   ],
   "source": [
    "u1 = np.array([[1],[2],[3]])\n",
    "k1 = u1.reshape(1,-1)\n",
    "k1"
   ]
  },
  {
   "cell_type": "code",
   "execution_count": 28,
   "metadata": {},
   "outputs": [],
   "source": [
    "# Örnek bir DataFrame oluşturalım\n",
    "import pandas as pd\n",
    "data = {'Feature1': [1, 2, 3],\n",
    "        'Feature2': [4, 5, 6]}\n",
    "pad = pd.DataFrame(data)"
   ]
  },
  {
   "cell_type": "code",
   "execution_count": 29,
   "metadata": {},
   "outputs": [
    {
     "data": {
      "text/plain": [
       "(1, 2)"
      ]
     },
     "execution_count": 29,
     "metadata": {},
     "output_type": "execute_result"
    }
   ],
   "source": [
    "pad.iloc[0:1,:].values.shape"
   ]
  },
  {
   "cell_type": "code",
   "execution_count": 30,
   "metadata": {},
   "outputs": [
    {
     "data": {
      "text/plain": [
       "str"
      ]
     },
     "execution_count": 30,
     "metadata": {},
     "output_type": "execute_result"
    }
   ],
   "source": [
    "u = pad.columns[0]\n",
    "type(u)"
   ]
  },
  {
   "cell_type": "code",
   "execution_count": 31,
   "metadata": {},
   "outputs": [
    {
     "data": {
      "text/html": [
       "<div>\n",
       "<style scoped>\n",
       "    .dataframe tbody tr th:only-of-type {\n",
       "        vertical-align: middle;\n",
       "    }\n",
       "\n",
       "    .dataframe tbody tr th {\n",
       "        vertical-align: top;\n",
       "    }\n",
       "\n",
       "    .dataframe thead th {\n",
       "        text-align: right;\n",
       "    }\n",
       "</style>\n",
       "<table border=\"1\" class=\"dataframe\">\n",
       "  <thead>\n",
       "    <tr style=\"text-align: right;\">\n",
       "      <th></th>\n",
       "      <th>Column_A</th>\n",
       "      <th>Column_B</th>\n",
       "      <th>Column_C</th>\n",
       "      <th>Column_D</th>\n",
       "    </tr>\n",
       "  </thead>\n",
       "  <tbody>\n",
       "    <tr>\n",
       "      <th>0</th>\n",
       "      <td>95</td>\n",
       "      <td>0.943892</td>\n",
       "      <td>C</td>\n",
       "      <td>0.651391</td>\n",
       "    </tr>\n",
       "    <tr>\n",
       "      <th>1</th>\n",
       "      <td>10</td>\n",
       "      <td>0.944252</td>\n",
       "      <td>A</td>\n",
       "      <td>0.110300</td>\n",
       "    </tr>\n",
       "    <tr>\n",
       "      <th>2</th>\n",
       "      <td>19</td>\n",
       "      <td>0.867199</td>\n",
       "      <td>A</td>\n",
       "      <td>-0.430025</td>\n",
       "    </tr>\n",
       "    <tr>\n",
       "      <th>3</th>\n",
       "      <td>58</td>\n",
       "      <td>0.636404</td>\n",
       "      <td>B</td>\n",
       "      <td>1.230211</td>\n",
       "    </tr>\n",
       "    <tr>\n",
       "      <th>4</th>\n",
       "      <td>96</td>\n",
       "      <td>0.800949</td>\n",
       "      <td>C</td>\n",
       "      <td>-1.291224</td>\n",
       "    </tr>\n",
       "    <tr>\n",
       "      <th>5</th>\n",
       "      <td>1</td>\n",
       "      <td>0.677168</td>\n",
       "      <td>A</td>\n",
       "      <td>1.554923</td>\n",
       "    </tr>\n",
       "    <tr>\n",
       "      <th>6</th>\n",
       "      <td>69</td>\n",
       "      <td>0.573367</td>\n",
       "      <td>A</td>\n",
       "      <td>-0.981200</td>\n",
       "    </tr>\n",
       "    <tr>\n",
       "      <th>7</th>\n",
       "      <td>4</td>\n",
       "      <td>0.128500</td>\n",
       "      <td>C</td>\n",
       "      <td>-1.238231</td>\n",
       "    </tr>\n",
       "    <tr>\n",
       "      <th>8</th>\n",
       "      <td>16</td>\n",
       "      <td>0.811204</td>\n",
       "      <td>B</td>\n",
       "      <td>-0.824651</td>\n",
       "    </tr>\n",
       "    <tr>\n",
       "      <th>9</th>\n",
       "      <td>24</td>\n",
       "      <td>0.820639</td>\n",
       "      <td>B</td>\n",
       "      <td>1.951280</td>\n",
       "    </tr>\n",
       "  </tbody>\n",
       "</table>\n",
       "</div>"
      ],
      "text/plain": [
       "   Column_A  Column_B Column_C  Column_D\n",
       "0        95  0.943892        C  0.651391\n",
       "1        10  0.944252        A  0.110300\n",
       "2        19  0.867199        A -0.430025\n",
       "3        58  0.636404        B  1.230211\n",
       "4        96  0.800949        C -1.291224\n",
       "5         1  0.677168        A  1.554923\n",
       "6        69  0.573367        A -0.981200\n",
       "7         4  0.128500        C -1.238231\n",
       "8        16  0.811204        B -0.824651\n",
       "9        24  0.820639        B  1.951280"
      ]
     },
     "execution_count": 31,
     "metadata": {},
     "output_type": "execute_result"
    }
   ],
   "source": [
    "import pandas as pd\n",
    "import numpy as np\n",
    "\n",
    "data = {\n",
    "    'Column_A': np.random.randint(1, 100, 10),\n",
    "    'Column_B': np.random.uniform(0, 1, 10),\n",
    "    'Column_C': np.random.choice(['A', 'B', 'C'], 10),\n",
    "    'Column_D': np.random.randn(10)\n",
    "}\n",
    "\n",
    "df = pd.DataFrame(data)\n",
    "df"
   ]
  },
  {
   "cell_type": "code",
   "execution_count": null,
   "metadata": {},
   "outputs": [],
   "source": [
    "df.iloc[5:]"
   ]
  },
  {
   "cell_type": "code",
   "execution_count": 32,
   "metadata": {},
   "outputs": [
    {
     "data": {
      "text/plain": [
       "(1, 4)"
      ]
     },
     "execution_count": 32,
     "metadata": {},
     "output_type": "execute_result"
    }
   ],
   "source": [
    "target = df.columns[1]\n",
    "df.loc[3:6, [target]].values.reshape(1,-1).shape"
   ]
  },
  {
   "cell_type": "code",
   "execution_count": 33,
   "metadata": {},
   "outputs": [
    {
     "data": {
      "text/html": [
       "<div>\n",
       "<style scoped>\n",
       "    .dataframe tbody tr th:only-of-type {\n",
       "        vertical-align: middle;\n",
       "    }\n",
       "\n",
       "    .dataframe tbody tr th {\n",
       "        vertical-align: top;\n",
       "    }\n",
       "\n",
       "    .dataframe thead th {\n",
       "        text-align: right;\n",
       "    }\n",
       "</style>\n",
       "<table border=\"1\" class=\"dataframe\">\n",
       "  <thead>\n",
       "    <tr style=\"text-align: right;\">\n",
       "      <th></th>\n",
       "      <th>Column_A</th>\n",
       "      <th>Column_B</th>\n",
       "      <th>Column_C</th>\n",
       "      <th>Column_D</th>\n",
       "    </tr>\n",
       "  </thead>\n",
       "  <tbody>\n",
       "    <tr>\n",
       "      <th>2</th>\n",
       "      <td>19</td>\n",
       "      <td>0.867199</td>\n",
       "      <td>A</td>\n",
       "      <td>-0.430025</td>\n",
       "    </tr>\n",
       "  </tbody>\n",
       "</table>\n",
       "</div>"
      ],
      "text/plain": [
       "   Column_A  Column_B Column_C  Column_D\n",
       "2        19  0.867199        A -0.430025"
      ]
     },
     "execution_count": 33,
     "metadata": {},
     "output_type": "execute_result"
    }
   ],
   "source": [
    "df.iloc[2:3, :] # 4x1"
   ]
  },
  {
   "cell_type": "code",
   "execution_count": 34,
   "metadata": {},
   "outputs": [],
   "source": [
    "df_u = df.sort_index(ascending=False).reset_index(drop=True)"
   ]
  },
  {
   "cell_type": "code",
   "execution_count": 35,
   "metadata": {},
   "outputs": [
    {
     "data": {
      "text/plain": [
       "(1,)"
      ]
     },
     "execution_count": 35,
     "metadata": {},
     "output_type": "execute_result"
    }
   ],
   "source": [
    "\n",
    "df_u.loc[5, ['Column_A']].values.shape"
   ]
  },
  {
   "cell_type": "code",
   "execution_count": 37,
   "metadata": {},
   "outputs": [
    {
     "data": {
      "text/plain": [
       "(1, 75)"
      ]
     },
     "execution_count": 37,
     "metadata": {},
     "output_type": "execute_result"
    }
   ],
   "source": [
    "np.array([[1.26129096e-02, 1.50468435e-02, 1.44900714e-02, 1.04060393e-02,\n",
    "        1.13500635e-02, 8.44333989e-03, 4.35308682e-03, 3.00936870e-03,\n",
    "        3.13689750e-03, 5.26911688e-03, 3.60502152e-03, 2.78386045e-03,\n",
    "        3.69211437e-03, 1.34682858e-03, 2.97048797e-04, 0.00000000e+00,\n",
    "        2.98604026e-04, 4.62525195e-03, 6.83212233e-03, 7.12917112e-03,\n",
    "        1.31774579e-02, 9.67663672e-03, 1.14418220e-02, 1.11307761e-02,\n",
    "        1.24013985e-02, 8.30181402e-03, 8.78704556e-03, 5.57083136e-03,\n",
    "        9.84304626e-03, 7.43555130e-03, 9.11830940e-03, 7.47598726e-03,\n",
    "        9.03121656e-03, 1.00327842e-02, 8.57553438e-03, 8.92701620e-03,\n",
    "        8.65796153e-03, 1.20592480e-02, 1.17761963e-02, 1.15444671e-02,\n",
    "        1.16533332e-02, 5.83210989e-03, 6.03117924e-03, 5.73101998e-03,\n",
    "        4.06692463e-03, 6.36710877e-03, 5.32821559e-03, 5.58793889e-03,\n",
    "        6.18514694e-03, 5.86165924e-03, 6.98453480e-03, 4.87719909e-03,\n",
    "        4.79010625e-03, 5.46507577e-03, 5.17580312e-03, 5.37487247e-03,\n",
    "        5.33910220e-03, 5.32199467e-03, 5.08404459e-03, 3.32974594e-03,\n",
    "        1.00000000e+00, 0.00000000e+00, 0.00000000e+00, 0.00000000e+00,\n",
    "        0.00000000e+00, 0.00000000e+00, 0.00000000e+00, 0.00000000e+00,\n",
    "        0.00000000e+00, 0.00000000e+00, 1.00000000e+00, 0.00000000e+00,\n",
    "        5.46429887e-01, 4.18646635e-01, 5.21350997e-01]]).shape"
   ]
  },
  {
   "cell_type": "code",
   "execution_count": 3,
   "metadata": {},
   "outputs": [
    {
     "data": {
      "text/plain": [
       "array([[0.74420593, 0.99210943, 0.03152881, 0.88749718, 0.67774564],\n",
       "       [0.23074554, 0.40856636, 0.65447172, 0.13287174, 0.92080236],\n",
       "       [0.25188307, 0.79633646, 0.76746077, 0.88418924, 0.82881416]])"
      ]
     },
     "execution_count": 3,
     "metadata": {},
     "output_type": "execute_result"
    }
   ],
   "source": [
    "import numpy as np\n",
    "\n",
    "arr = np.random.random(size=(3,5))\n",
    "arr"
   ]
  },
  {
   "cell_type": "code",
   "execution_count": 7,
   "metadata": {},
   "outputs": [
    {
     "data": {
      "text/plain": [
       "array([], shape=(0, 5), dtype=float64)"
      ]
     },
     "execution_count": 7,
     "metadata": {},
     "output_type": "execute_result"
    }
   ],
   "source": [
    "arr[]"
   ]
  }
 ],
 "metadata": {
  "kernelspec": {
   "display_name": "Python 3",
   "language": "python",
   "name": "python3"
  },
  "language_info": {
   "codemirror_mode": {
    "name": "ipython",
    "version": 3
   },
   "file_extension": ".py",
   "mimetype": "text/x-python",
   "name": "python",
   "nbconvert_exporter": "python",
   "pygments_lexer": "ipython3",
   "version": "3.10.5"
  },
  "orig_nbformat": 4
 },
 "nbformat": 4,
 "nbformat_minor": 2
}
