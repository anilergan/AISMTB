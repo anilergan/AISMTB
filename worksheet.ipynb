{
 "cells": [
  {
   "cell_type": "code",
   "execution_count": 2,
   "metadata": {},
   "outputs": [
    {
     "name": "stdout",
     "output_type": "stream",
     "text": [
      "            value  other_column\n",
      "2023-08-01     10           100\n",
      "2023-08-02     20           200\n",
      "2023-08-03     30           300\n",
      "2023-08-04     40           400\n",
      "2023-08-05     50           500\n",
      "2023-08-06     60           600\n",
      "2023-08-07     70           700\n",
      "2023-08-08     80           800\n"
     ]
    }
   ],
   "source": [
    "import pandas as pd\n",
    "\n",
    "# Örnek veri oluşturma (index: datetime formatında)\n",
    "data = {'value': [10, 20, 30, 40, 50, 60, 70, 80],\n",
    "        'other_column': [100, 200, 300, 400, 500, 600, 700, 800]}\n",
    "\n",
    "index = pd.date_range(start='2023-08-01', periods=8, freq='D')\n",
    "df = pd.DataFrame(data, index=index)\n",
    "\n",
    "print(df)"
   ]
  },
  {
   "cell_type": "code",
   "execution_count": 3,
   "metadata": {},
   "outputs": [
    {
     "name": "stdout",
     "output_type": "stream",
     "text": [
      "            value  other_column\n",
      "2023-08-01    NaN           NaN\n",
      "2023-08-02    NaN           NaN\n",
      "2023-08-03    NaN           NaN\n",
      "2023-08-04   10.0         100.0\n",
      "2023-08-05   20.0         200.0\n",
      "2023-08-06   30.0         300.0\n",
      "2023-08-07   40.0         400.0\n",
      "2023-08-08   50.0         500.0\n"
     ]
    }
   ],
   "source": [
    "import pandas as pd\n",
    "\n",
    "# Örnek veri oluşturma (index: datetime formatında)\n",
    "data = {'value': [10, 20, 30, 40, 50, 60, 70, 80],\n",
    "        'other_column': [100, 200, 300, 400, 500, 600, 700, 800]}\n",
    "\n",
    "index = pd.date_range(start='2023-08-01', periods=8, freq='D')\n",
    "df = pd.DataFrame(data, index=index)\n",
    "\n",
    "# Tüm verileri 3 gün ileri kaydırma\n",
    "shifted_df = df.shift(periods=3, fill_value=None)\n",
    "\n",
    "print(shifted_df)"
   ]
  },
  {
   "cell_type": "code",
   "execution_count": 4,
   "metadata": {},
   "outputs": [
    {
     "name": "stdout",
     "output_type": "stream",
     "text": [
      "            value  other_column\n",
      "2023-08-01    NaN           100\n",
      "2023-08-02    NaN           200\n",
      "2023-08-03    NaN           300\n",
      "2023-08-04   10.0           400\n",
      "2023-08-05   20.0           500\n",
      "2023-08-06   30.0           600\n",
      "2023-08-07   40.0           700\n",
      "2023-08-08   50.0           800\n"
     ]
    }
   ],
   "source": [
    "import pandas as pd\n",
    "\n",
    "# Örnek veri oluşturma (index: datetime formatında)\n",
    "data = {'value': [10, 20, 30, 40, 50, 60, 70, 80],\n",
    "        'other_column': [100, 200, 300, 400, 500, 600, 700, 800]}\n",
    "\n",
    "index = pd.date_range(start='2023-08-01', periods=8, freq='D')\n",
    "df = pd.DataFrame(data, index=index)\n",
    "\n",
    "# 'value' sütununu 3 gün ileri kaydırma\n",
    "df['value'] = df['value'].shift(3)\n",
    "\n",
    "# Eğer 'value' sütununu 3 gün geri kaydırmak isterseniz:\n",
    "# df['value'] = df['value'].shift(3)\n",
    "\n",
    "print(df)"
   ]
  },
  {
   "cell_type": "markdown",
   "metadata": {},
   "source": [
    "---"
   ]
  },
  {
   "cell_type": "code",
   "execution_count": 5,
   "metadata": {},
   "outputs": [
    {
     "name": "stdout",
     "output_type": "stream",
     "text": [
      "            value\n",
      "2023-08-01     10\n",
      "2023-08-02     20\n",
      "2023-08-03     30\n",
      "2023-08-04     40\n",
      "2023-08-05     50\n",
      "2023-08-06     60\n",
      "2023-08-07     70\n",
      "2023-08-08     80\n"
     ]
    }
   ],
   "source": [
    "import pandas as pd\n",
    "\n",
    "data = {'value': [10, 20, 30, 40, 50, 60, 70, 80]}\n",
    "index = pd.date_range(start='2023-08-01', periods=len(data['value']), freq='D')\n",
    "\n",
    "df = pd.DataFrame(data, index=index)\n",
    "print(df)"
   ]
  },
  {
   "cell_type": "code",
   "execution_count": 6,
   "metadata": {},
   "outputs": [
    {
     "name": "stdout",
     "output_type": "stream",
     "text": [
      "2023-08-01    100\n",
      "2023-08-02    200\n",
      "2023-08-03    300\n",
      "2023-08-04    400\n",
      "2023-08-05    500\n",
      "2023-08-06    600\n",
      "2023-08-07    700\n",
      "2023-08-08    800\n",
      "Freq: D, dtype: int64\n"
     ]
    }
   ],
   "source": [
    "import pandas as pd\n",
    "\n",
    "data = {'other_column': [100, 200, 300, 400, 500, 600, 700, 800]}\n",
    "index = pd.date_range(start='2023-08-01', periods=len(data['other_column']), freq='D')\n",
    "\n",
    "other_column = pd.Series(data['other_column'], index=index)\n",
    "print(other_column)\n"
   ]
  },
  {
   "cell_type": "code",
   "execution_count": 7,
   "metadata": {},
   "outputs": [
    {
     "name": "stdout",
     "output_type": "stream",
     "text": [
      "2023-08-04    10\n",
      "2023-08-05    20\n",
      "2023-08-06    30\n",
      "2023-08-07    40\n",
      "2023-08-08    50\n",
      "2023-08-09    60\n",
      "2023-08-10    70\n",
      "2023-08-11    80\n",
      "dtype: int64\n"
     ]
    }
   ],
   "source": [
    "import pandas as pd\n",
    "\n",
    "# Örnek veri oluşturma (index: datetime formatında)\n",
    "data = {'value': [10, 20, 30, 40, 50, 60, 70, 80]}\n",
    "index = pd.date_range(start='2023-08-01', periods=len(data['value']), freq='D')\n",
    "\n",
    "value_series = pd.Series(data['value'], index=index)\n",
    "shifted_value_series = value_series.copy()\n",
    "shifted_value_series.index = shifted_value_series.index + pd.DateOffset(days=3)\n",
    "\n",
    "print(shifted_value_series)"
   ]
  },
  {
   "cell_type": "code",
   "execution_count": 8,
   "metadata": {},
   "outputs": [
    {
     "data": {
      "text/plain": [
       "2023-08-01    100\n",
       "2023-08-02    200\n",
       "2023-08-03    300\n",
       "2023-08-04    400\n",
       "2023-08-05    500\n",
       "2023-08-06    600\n",
       "2023-08-07    700\n",
       "2023-08-08    800\n",
       "Freq: D, dtype: int64"
      ]
     },
     "execution_count": 8,
     "metadata": {},
     "output_type": "execute_result"
    }
   ],
   "source": [
    "other_column"
   ]
  },
  {
   "cell_type": "code",
   "execution_count": 12,
   "metadata": {},
   "outputs": [],
   "source": [
    "df_concat = pd.concat([shifted_value_series,other_column ], axis=1)"
   ]
  },
  {
   "cell_type": "code",
   "execution_count": 13,
   "metadata": {},
   "outputs": [
    {
     "data": {
      "text/html": [
       "<div>\n",
       "<style scoped>\n",
       "    .dataframe tbody tr th:only-of-type {\n",
       "        vertical-align: middle;\n",
       "    }\n",
       "\n",
       "    .dataframe tbody tr th {\n",
       "        vertical-align: top;\n",
       "    }\n",
       "\n",
       "    .dataframe thead th {\n",
       "        text-align: right;\n",
       "    }\n",
       "</style>\n",
       "<table border=\"1\" class=\"dataframe\">\n",
       "  <thead>\n",
       "    <tr style=\"text-align: right;\">\n",
       "      <th></th>\n",
       "      <th>0</th>\n",
       "      <th>1</th>\n",
       "    </tr>\n",
       "  </thead>\n",
       "  <tbody>\n",
       "    <tr>\n",
       "      <th>2023-08-01</th>\n",
       "      <td>NaN</td>\n",
       "      <td>100.0</td>\n",
       "    </tr>\n",
       "    <tr>\n",
       "      <th>2023-08-02</th>\n",
       "      <td>NaN</td>\n",
       "      <td>200.0</td>\n",
       "    </tr>\n",
       "    <tr>\n",
       "      <th>2023-08-03</th>\n",
       "      <td>NaN</td>\n",
       "      <td>300.0</td>\n",
       "    </tr>\n",
       "    <tr>\n",
       "      <th>2023-08-04</th>\n",
       "      <td>10.0</td>\n",
       "      <td>400.0</td>\n",
       "    </tr>\n",
       "    <tr>\n",
       "      <th>2023-08-05</th>\n",
       "      <td>20.0</td>\n",
       "      <td>500.0</td>\n",
       "    </tr>\n",
       "    <tr>\n",
       "      <th>2023-08-06</th>\n",
       "      <td>30.0</td>\n",
       "      <td>600.0</td>\n",
       "    </tr>\n",
       "    <tr>\n",
       "      <th>2023-08-07</th>\n",
       "      <td>40.0</td>\n",
       "      <td>700.0</td>\n",
       "    </tr>\n",
       "    <tr>\n",
       "      <th>2023-08-08</th>\n",
       "      <td>50.0</td>\n",
       "      <td>800.0</td>\n",
       "    </tr>\n",
       "    <tr>\n",
       "      <th>2023-08-09</th>\n",
       "      <td>60.0</td>\n",
       "      <td>NaN</td>\n",
       "    </tr>\n",
       "    <tr>\n",
       "      <th>2023-08-10</th>\n",
       "      <td>70.0</td>\n",
       "      <td>NaN</td>\n",
       "    </tr>\n",
       "    <tr>\n",
       "      <th>2023-08-11</th>\n",
       "      <td>80.0</td>\n",
       "      <td>NaN</td>\n",
       "    </tr>\n",
       "  </tbody>\n",
       "</table>\n",
       "</div>"
      ],
      "text/plain": [
       "               0      1\n",
       "2023-08-01   NaN  100.0\n",
       "2023-08-02   NaN  200.0\n",
       "2023-08-03   NaN  300.0\n",
       "2023-08-04  10.0  400.0\n",
       "2023-08-05  20.0  500.0\n",
       "2023-08-06  30.0  600.0\n",
       "2023-08-07  40.0  700.0\n",
       "2023-08-08  50.0  800.0\n",
       "2023-08-09  60.0    NaN\n",
       "2023-08-10  70.0    NaN\n",
       "2023-08-11  80.0    NaN"
      ]
     },
     "execution_count": 13,
     "metadata": {},
     "output_type": "execute_result"
    }
   ],
   "source": [
    "df_concat"
   ]
  },
  {
   "cell_type": "code",
   "execution_count": 15,
   "metadata": {},
   "outputs": [],
   "source": [
    "# Örnek veri oluşturma\n",
    "import numpy as np\n",
    "np.random.seed(42)\n",
    "date_rng = pd.date_range(start='2023-01-01', end='2023-08-01', freq='D')\n",
    "data = np.sin(np.arange(len(date_rng))) + np.random.normal(0, 0.1, size=len(date_rng))\n",
    "df = pd.DataFrame(data, columns=['value'], index=date_rng)\n",
    "\n",
    "# Lag özellikleri oluşturma (önceki değerler)\n",
    "for i in range(1, 8):\n",
    "    df[f'lag_{i}'] = df['value'].shift(i)"
   ]
  },
  {
   "cell_type": "code",
   "execution_count": 16,
   "metadata": {},
   "outputs": [
    {
     "data": {
      "text/html": [
       "<div>\n",
       "<style scoped>\n",
       "    .dataframe tbody tr th:only-of-type {\n",
       "        vertical-align: middle;\n",
       "    }\n",
       "\n",
       "    .dataframe tbody tr th {\n",
       "        vertical-align: top;\n",
       "    }\n",
       "\n",
       "    .dataframe thead th {\n",
       "        text-align: right;\n",
       "    }\n",
       "</style>\n",
       "<table border=\"1\" class=\"dataframe\">\n",
       "  <thead>\n",
       "    <tr style=\"text-align: right;\">\n",
       "      <th></th>\n",
       "      <th>value</th>\n",
       "      <th>lag_1</th>\n",
       "      <th>lag_2</th>\n",
       "      <th>lag_3</th>\n",
       "      <th>lag_4</th>\n",
       "      <th>lag_5</th>\n",
       "      <th>lag_6</th>\n",
       "      <th>lag_7</th>\n",
       "    </tr>\n",
       "  </thead>\n",
       "  <tbody>\n",
       "    <tr>\n",
       "      <th>2023-01-01</th>\n",
       "      <td>0.049671</td>\n",
       "      <td>NaN</td>\n",
       "      <td>NaN</td>\n",
       "      <td>NaN</td>\n",
       "      <td>NaN</td>\n",
       "      <td>NaN</td>\n",
       "      <td>NaN</td>\n",
       "      <td>NaN</td>\n",
       "    </tr>\n",
       "    <tr>\n",
       "      <th>2023-01-02</th>\n",
       "      <td>0.827645</td>\n",
       "      <td>0.049671</td>\n",
       "      <td>NaN</td>\n",
       "      <td>NaN</td>\n",
       "      <td>NaN</td>\n",
       "      <td>NaN</td>\n",
       "      <td>NaN</td>\n",
       "      <td>NaN</td>\n",
       "    </tr>\n",
       "    <tr>\n",
       "      <th>2023-01-03</th>\n",
       "      <td>0.974066</td>\n",
       "      <td>0.827645</td>\n",
       "      <td>0.049671</td>\n",
       "      <td>NaN</td>\n",
       "      <td>NaN</td>\n",
       "      <td>NaN</td>\n",
       "      <td>NaN</td>\n",
       "      <td>NaN</td>\n",
       "    </tr>\n",
       "    <tr>\n",
       "      <th>2023-01-04</th>\n",
       "      <td>0.293423</td>\n",
       "      <td>0.974066</td>\n",
       "      <td>0.827645</td>\n",
       "      <td>0.049671</td>\n",
       "      <td>NaN</td>\n",
       "      <td>NaN</td>\n",
       "      <td>NaN</td>\n",
       "      <td>NaN</td>\n",
       "    </tr>\n",
       "    <tr>\n",
       "      <th>2023-01-05</th>\n",
       "      <td>-0.780218</td>\n",
       "      <td>0.293423</td>\n",
       "      <td>0.974066</td>\n",
       "      <td>0.827645</td>\n",
       "      <td>0.049671</td>\n",
       "      <td>NaN</td>\n",
       "      <td>NaN</td>\n",
       "      <td>NaN</td>\n",
       "    </tr>\n",
       "    <tr>\n",
       "      <th>...</th>\n",
       "      <td>...</td>\n",
       "      <td>...</td>\n",
       "      <td>...</td>\n",
       "      <td>...</td>\n",
       "      <td>...</td>\n",
       "      <td>...</td>\n",
       "      <td>...</td>\n",
       "      <td>...</td>\n",
       "    </tr>\n",
       "    <tr>\n",
       "      <th>2023-07-28</th>\n",
       "      <td>0.660573</td>\n",
       "      <td>-0.286926</td>\n",
       "      <td>-0.923138</td>\n",
       "      <td>-0.808680</td>\n",
       "      <td>0.064353</td>\n",
       "      <td>1.038690</td>\n",
       "      <td>0.914724</td>\n",
       "      <td>-0.005812</td>\n",
       "    </tr>\n",
       "    <tr>\n",
       "      <th>2023-07-29</th>\n",
       "      <td>1.381740</td>\n",
       "      <td>0.660573</td>\n",
       "      <td>-0.286926</td>\n",
       "      <td>-0.923138</td>\n",
       "      <td>-0.808680</td>\n",
       "      <td>0.064353</td>\n",
       "      <td>1.038690</td>\n",
       "      <td>0.914724</td>\n",
       "    </tr>\n",
       "    <tr>\n",
       "      <th>2023-07-30</th>\n",
       "      <td>0.524808</td>\n",
       "      <td>1.381740</td>\n",
       "      <td>0.660573</td>\n",
       "      <td>-0.286926</td>\n",
       "      <td>-0.923138</td>\n",
       "      <td>-0.808680</td>\n",
       "      <td>0.064353</td>\n",
       "      <td>1.038690</td>\n",
       "    </tr>\n",
       "    <tr>\n",
       "      <th>2023-07-31</th>\n",
       "      <td>-0.377491</td>\n",
       "      <td>0.524808</td>\n",
       "      <td>1.381740</td>\n",
       "      <td>0.660573</td>\n",
       "      <td>-0.286926</td>\n",
       "      <td>-0.923138</td>\n",
       "      <td>-0.808680</td>\n",
       "      <td>0.064353</td>\n",
       "    </tr>\n",
       "    <tr>\n",
       "      <th>2023-08-01</th>\n",
       "      <td>-0.902947</td>\n",
       "      <td>-0.377491</td>\n",
       "      <td>0.524808</td>\n",
       "      <td>1.381740</td>\n",
       "      <td>0.660573</td>\n",
       "      <td>-0.286926</td>\n",
       "      <td>-0.923138</td>\n",
       "      <td>-0.808680</td>\n",
       "    </tr>\n",
       "  </tbody>\n",
       "</table>\n",
       "<p>213 rows × 8 columns</p>\n",
       "</div>"
      ],
      "text/plain": [
       "               value     lag_1     lag_2     lag_3     lag_4     lag_5  \\\n",
       "2023-01-01  0.049671       NaN       NaN       NaN       NaN       NaN   \n",
       "2023-01-02  0.827645  0.049671       NaN       NaN       NaN       NaN   \n",
       "2023-01-03  0.974066  0.827645  0.049671       NaN       NaN       NaN   \n",
       "2023-01-04  0.293423  0.974066  0.827645  0.049671       NaN       NaN   \n",
       "2023-01-05 -0.780218  0.293423  0.974066  0.827645  0.049671       NaN   \n",
       "...              ...       ...       ...       ...       ...       ...   \n",
       "2023-07-28  0.660573 -0.286926 -0.923138 -0.808680  0.064353  1.038690   \n",
       "2023-07-29  1.381740  0.660573 -0.286926 -0.923138 -0.808680  0.064353   \n",
       "2023-07-30  0.524808  1.381740  0.660573 -0.286926 -0.923138 -0.808680   \n",
       "2023-07-31 -0.377491  0.524808  1.381740  0.660573 -0.286926 -0.923138   \n",
       "2023-08-01 -0.902947 -0.377491  0.524808  1.381740  0.660573 -0.286926   \n",
       "\n",
       "               lag_6     lag_7  \n",
       "2023-01-01       NaN       NaN  \n",
       "2023-01-02       NaN       NaN  \n",
       "2023-01-03       NaN       NaN  \n",
       "2023-01-04       NaN       NaN  \n",
       "2023-01-05       NaN       NaN  \n",
       "...              ...       ...  \n",
       "2023-07-28  0.914724 -0.005812  \n",
       "2023-07-29  1.038690  0.914724  \n",
       "2023-07-30  0.064353  1.038690  \n",
       "2023-07-31 -0.808680  0.064353  \n",
       "2023-08-01 -0.923138 -0.808680  \n",
       "\n",
       "[213 rows x 8 columns]"
      ]
     },
     "execution_count": 16,
     "metadata": {},
     "output_type": "execute_result"
    }
   ],
   "source": [
    "df"
   ]
  }
 ],
 "metadata": {
  "kernelspec": {
   "display_name": "Python 3",
   "language": "python",
   "name": "python3"
  },
  "language_info": {
   "codemirror_mode": {
    "name": "ipython",
    "version": 3
   },
   "file_extension": ".py",
   "mimetype": "text/x-python",
   "name": "python",
   "nbconvert_exporter": "python",
   "pygments_lexer": "ipython3",
   "version": "3.10.5"
  },
  "orig_nbformat": 4
 },
 "nbformat": 4,
 "nbformat_minor": 2
}
