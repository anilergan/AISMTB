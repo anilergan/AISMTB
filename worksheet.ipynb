{
 "cells": [
  {
   "cell_type": "code",
   "execution_count": 1,
   "metadata": {},
   "outputs": [
    {
     "data": {
      "text/html": [
       "<div>\n",
       "<style scoped>\n",
       "    .dataframe tbody tr th:only-of-type {\n",
       "        vertical-align: middle;\n",
       "    }\n",
       "\n",
       "    .dataframe tbody tr th {\n",
       "        vertical-align: top;\n",
       "    }\n",
       "\n",
       "    .dataframe thead th {\n",
       "        text-align: right;\n",
       "    }\n",
       "</style>\n",
       "<table border=\"1\" class=\"dataframe\">\n",
       "  <thead>\n",
       "    <tr style=\"text-align: right;\">\n",
       "      <th></th>\n",
       "      <th>unix</th>\n",
       "      <th>date</th>\n",
       "      <th>symbol</th>\n",
       "      <th>open</th>\n",
       "      <th>high</th>\n",
       "      <th>low</th>\n",
       "      <th>close</th>\n",
       "      <th>Volume BTC</th>\n",
       "      <th>Volume USD</th>\n",
       "    </tr>\n",
       "  </thead>\n",
       "  <tbody>\n",
       "    <tr>\n",
       "      <th>0</th>\n",
       "      <td>1514764740</td>\n",
       "      <td>2017-12-31 23:59:00</td>\n",
       "      <td>BTC/USD</td>\n",
       "      <td>13913.28</td>\n",
       "      <td>13913.28</td>\n",
       "      <td>13867.18</td>\n",
       "      <td>13880.00</td>\n",
       "      <td>0.591748</td>\n",
       "      <td>8213.456549</td>\n",
       "    </tr>\n",
       "    <tr>\n",
       "      <th>1</th>\n",
       "      <td>1514764680</td>\n",
       "      <td>2017-12-31 23:58:00</td>\n",
       "      <td>BTC/USD</td>\n",
       "      <td>13913.26</td>\n",
       "      <td>13953.83</td>\n",
       "      <td>13884.69</td>\n",
       "      <td>13953.77</td>\n",
       "      <td>1.398784</td>\n",
       "      <td>19518.309658</td>\n",
       "    </tr>\n",
       "    <tr>\n",
       "      <th>2</th>\n",
       "      <td>1514764620</td>\n",
       "      <td>2017-12-31 23:57:00</td>\n",
       "      <td>BTC/USD</td>\n",
       "      <td>13908.73</td>\n",
       "      <td>13913.26</td>\n",
       "      <td>13874.99</td>\n",
       "      <td>13913.26</td>\n",
       "      <td>0.775012</td>\n",
       "      <td>10782.944294</td>\n",
       "    </tr>\n",
       "    <tr>\n",
       "      <th>3</th>\n",
       "      <td>1514764560</td>\n",
       "      <td>2017-12-31 23:56:00</td>\n",
       "      <td>BTC/USD</td>\n",
       "      <td>13827.00</td>\n",
       "      <td>13908.69</td>\n",
       "      <td>13827.00</td>\n",
       "      <td>13859.58</td>\n",
       "      <td>0.666459</td>\n",
       "      <td>9236.841134</td>\n",
       "    </tr>\n",
       "    <tr>\n",
       "      <th>4</th>\n",
       "      <td>1514764500</td>\n",
       "      <td>2017-12-31 23:55:00</td>\n",
       "      <td>BTC/USD</td>\n",
       "      <td>13825.05</td>\n",
       "      <td>13825.05</td>\n",
       "      <td>13825.05</td>\n",
       "      <td>13825.05</td>\n",
       "      <td>0.065501</td>\n",
       "      <td>905.560130</td>\n",
       "    </tr>\n",
       "    <tr>\n",
       "      <th>...</th>\n",
       "      <td>...</td>\n",
       "      <td>...</td>\n",
       "      <td>...</td>\n",
       "      <td>...</td>\n",
       "      <td>...</td>\n",
       "      <td>...</td>\n",
       "      <td>...</td>\n",
       "      <td>...</td>\n",
       "      <td>...</td>\n",
       "    </tr>\n",
       "    <tr>\n",
       "      <th>525594</th>\n",
       "      <td>1483229100</td>\n",
       "      <td>2017-01-01 00:05:00</td>\n",
       "      <td>BTC/USD</td>\n",
       "      <td>966.43</td>\n",
       "      <td>966.43</td>\n",
       "      <td>966.43</td>\n",
       "      <td>966.43</td>\n",
       "      <td>0.107000</td>\n",
       "      <td>103.408010</td>\n",
       "    </tr>\n",
       "    <tr>\n",
       "      <th>525595</th>\n",
       "      <td>1483229040</td>\n",
       "      <td>2017-01-01 00:04:00</td>\n",
       "      <td>BTC/USD</td>\n",
       "      <td>966.37</td>\n",
       "      <td>966.37</td>\n",
       "      <td>966.37</td>\n",
       "      <td>966.37</td>\n",
       "      <td>0.000000</td>\n",
       "      <td>0.000000</td>\n",
       "    </tr>\n",
       "    <tr>\n",
       "      <th>525596</th>\n",
       "      <td>1483228980</td>\n",
       "      <td>2017-01-01 00:03:00</td>\n",
       "      <td>BTC/USD</td>\n",
       "      <td>966.37</td>\n",
       "      <td>966.37</td>\n",
       "      <td>966.37</td>\n",
       "      <td>966.37</td>\n",
       "      <td>0.000000</td>\n",
       "      <td>0.000000</td>\n",
       "    </tr>\n",
       "    <tr>\n",
       "      <th>525597</th>\n",
       "      <td>1483228920</td>\n",
       "      <td>2017-01-01 00:02:00</td>\n",
       "      <td>BTC/USD</td>\n",
       "      <td>966.16</td>\n",
       "      <td>966.37</td>\n",
       "      <td>966.16</td>\n",
       "      <td>966.37</td>\n",
       "      <td>8.087376</td>\n",
       "      <td>7815.397864</td>\n",
       "    </tr>\n",
       "    <tr>\n",
       "      <th>525598</th>\n",
       "      <td>1483228860</td>\n",
       "      <td>2017-01-01 00:01:00</td>\n",
       "      <td>BTC/USD</td>\n",
       "      <td>966.34</td>\n",
       "      <td>966.34</td>\n",
       "      <td>966.34</td>\n",
       "      <td>966.34</td>\n",
       "      <td>7.610000</td>\n",
       "      <td>7353.847400</td>\n",
       "    </tr>\n",
       "  </tbody>\n",
       "</table>\n",
       "<p>525599 rows × 9 columns</p>\n",
       "</div>"
      ],
      "text/plain": [
       "              unix                 date   symbol      open      high  \\\n",
       "0       1514764740  2017-12-31 23:59:00  BTC/USD  13913.28  13913.28   \n",
       "1       1514764680  2017-12-31 23:58:00  BTC/USD  13913.26  13953.83   \n",
       "2       1514764620  2017-12-31 23:57:00  BTC/USD  13908.73  13913.26   \n",
       "3       1514764560  2017-12-31 23:56:00  BTC/USD  13827.00  13908.69   \n",
       "4       1514764500  2017-12-31 23:55:00  BTC/USD  13825.05  13825.05   \n",
       "...            ...                  ...      ...       ...       ...   \n",
       "525594  1483229100  2017-01-01 00:05:00  BTC/USD    966.43    966.43   \n",
       "525595  1483229040  2017-01-01 00:04:00  BTC/USD    966.37    966.37   \n",
       "525596  1483228980  2017-01-01 00:03:00  BTC/USD    966.37    966.37   \n",
       "525597  1483228920  2017-01-01 00:02:00  BTC/USD    966.16    966.37   \n",
       "525598  1483228860  2017-01-01 00:01:00  BTC/USD    966.34    966.34   \n",
       "\n",
       "             low     close  Volume BTC    Volume USD  \n",
       "0       13867.18  13880.00    0.591748   8213.456549  \n",
       "1       13884.69  13953.77    1.398784  19518.309658  \n",
       "2       13874.99  13913.26    0.775012  10782.944294  \n",
       "3       13827.00  13859.58    0.666459   9236.841134  \n",
       "4       13825.05  13825.05    0.065501    905.560130  \n",
       "...          ...       ...         ...           ...  \n",
       "525594    966.43    966.43    0.107000    103.408010  \n",
       "525595    966.37    966.37    0.000000      0.000000  \n",
       "525596    966.37    966.37    0.000000      0.000000  \n",
       "525597    966.16    966.37    8.087376   7815.397864  \n",
       "525598    966.34    966.34    7.610000   7353.847400  \n",
       "\n",
       "[525599 rows x 9 columns]"
      ]
     },
     "execution_count": 1,
     "metadata": {},
     "output_type": "execute_result"
    }
   ],
   "source": [
    "import pandas as pd\n",
    "\n",
    "df_btc_minute = pd.read_csv('btc_min_data\\BTC-2017min.csv')\n",
    "df_btc_minute"
   ]
  },
  {
   "cell_type": "code",
   "execution_count": 69,
   "metadata": {},
   "outputs": [
    {
     "name": "stdout",
     "output_type": "stream",
     "text": [
      "            value  other_column\n",
      "2023-08-01     10           100\n",
      "2023-08-02     20           200\n",
      "2023-08-03     30           300\n",
      "2023-08-04     40           400\n",
      "2023-08-05     50           500\n",
      "2023-08-06     60           600\n",
      "2023-08-07     70           700\n",
      "2023-08-08     80           800\n"
     ]
    }
   ],
   "source": [
    "import pandas as pd\n",
    "\n",
    "# Örnek veri oluşturma (index: datetime formatında)\n",
    "data = {'value': [10, 20, 30, 40, 50, 60, 70, 80],\n",
    "        'other_column': [100, 200, 300, 400, 500, 600, 700, 800]}\n",
    "\n",
    "index = pd.date_range(start='2023-08-01', periods=8, freq='D')\n",
    "df = pd.DataFrame(data, index=index)\n",
    "\n",
    "print(df)"
   ]
  },
  {
   "cell_type": "code",
   "execution_count": 1,
   "metadata": {},
   "outputs": [
    {
     "data": {
      "text/plain": [
       "25"
      ]
     },
     "execution_count": 1,
     "metadata": {},
     "output_type": "execute_result"
    }
   ],
   "source": [
    "liste = [100,500,1000,800,750,1200,2000,1800,1900,1650,1000,550,670,700,450,200,250,450,150,50,30,40,75,150,100]\n",
    "len(liste)"
   ]
  },
  {
   "cell_type": "code",
   "execution_count": 16,
   "metadata": {},
   "outputs": [],
   "source": [
    "import numpy as np\n",
    "arr = np.array(liste)\n",
    "\n",
    "std = arr.std()\n",
    "mean = arr.mean()\n",
    "\n",
    "arr_scaled = np.array([])\n",
    "\n",
    "for org_data in arr:\n",
    "    scaled_data = (org_data - mean) / std\n",
    "    arr_scaled = np.append(arr_scaled, scaled_data)"
   ]
  },
  {
   "cell_type": "code",
   "execution_count": 17,
   "metadata": {},
   "outputs": [
    {
     "data": {
      "text/plain": [
       "array([-0.9217475 , -0.26639912,  0.55278636,  0.22511217,  0.14319362,\n",
       "        0.88046055,  2.19115731,  1.86348312,  2.02732022,  1.61772748,\n",
       "        0.55278636, -0.18448057,  0.01212395,  0.06127507, -0.34831766,\n",
       "       -0.7579104 , -0.67599185, -0.34831766, -0.83982895, -1.00366604,\n",
       "       -1.03643346, -1.02004975, -0.96270677, -0.83982895, -0.9217475 ])"
      ]
     },
     "execution_count": 17,
     "metadata": {},
     "output_type": "execute_result"
    }
   ],
   "source": [
    "arr_scaled"
   ]
  },
  {
   "cell_type": "code",
   "execution_count": 23,
   "metadata": {},
   "outputs": [
    {
     "data": {
      "text/html": [
       "<div>\n",
       "<style scoped>\n",
       "    .dataframe tbody tr th:only-of-type {\n",
       "        vertical-align: middle;\n",
       "    }\n",
       "\n",
       "    .dataframe tbody tr th {\n",
       "        vertical-align: top;\n",
       "    }\n",
       "\n",
       "    .dataframe thead th {\n",
       "        text-align: right;\n",
       "    }\n",
       "</style>\n",
       "<table border=\"1\" class=\"dataframe\">\n",
       "  <thead>\n",
       "    <tr style=\"text-align: right;\">\n",
       "      <th></th>\n",
       "      <th>org_values</th>\n",
       "      <th>scaled_values</th>\n",
       "    </tr>\n",
       "  </thead>\n",
       "  <tbody>\n",
       "    <tr>\n",
       "      <th>0</th>\n",
       "      <td>100</td>\n",
       "      <td>-0.921747</td>\n",
       "    </tr>\n",
       "    <tr>\n",
       "      <th>1</th>\n",
       "      <td>500</td>\n",
       "      <td>-0.266399</td>\n",
       "    </tr>\n",
       "    <tr>\n",
       "      <th>2</th>\n",
       "      <td>1000</td>\n",
       "      <td>0.552786</td>\n",
       "    </tr>\n",
       "    <tr>\n",
       "      <th>3</th>\n",
       "      <td>800</td>\n",
       "      <td>0.225112</td>\n",
       "    </tr>\n",
       "    <tr>\n",
       "      <th>4</th>\n",
       "      <td>750</td>\n",
       "      <td>0.143194</td>\n",
       "    </tr>\n",
       "    <tr>\n",
       "      <th>5</th>\n",
       "      <td>1200</td>\n",
       "      <td>0.880461</td>\n",
       "    </tr>\n",
       "    <tr>\n",
       "      <th>6</th>\n",
       "      <td>2000</td>\n",
       "      <td>2.191157</td>\n",
       "    </tr>\n",
       "    <tr>\n",
       "      <th>7</th>\n",
       "      <td>1800</td>\n",
       "      <td>1.863483</td>\n",
       "    </tr>\n",
       "    <tr>\n",
       "      <th>8</th>\n",
       "      <td>1900</td>\n",
       "      <td>2.027320</td>\n",
       "    </tr>\n",
       "    <tr>\n",
       "      <th>9</th>\n",
       "      <td>1650</td>\n",
       "      <td>1.617727</td>\n",
       "    </tr>\n",
       "    <tr>\n",
       "      <th>10</th>\n",
       "      <td>1000</td>\n",
       "      <td>0.552786</td>\n",
       "    </tr>\n",
       "    <tr>\n",
       "      <th>11</th>\n",
       "      <td>550</td>\n",
       "      <td>-0.184481</td>\n",
       "    </tr>\n",
       "    <tr>\n",
       "      <th>12</th>\n",
       "      <td>670</td>\n",
       "      <td>0.012124</td>\n",
       "    </tr>\n",
       "    <tr>\n",
       "      <th>13</th>\n",
       "      <td>700</td>\n",
       "      <td>0.061275</td>\n",
       "    </tr>\n",
       "    <tr>\n",
       "      <th>14</th>\n",
       "      <td>450</td>\n",
       "      <td>-0.348318</td>\n",
       "    </tr>\n",
       "    <tr>\n",
       "      <th>15</th>\n",
       "      <td>200</td>\n",
       "      <td>-0.757910</td>\n",
       "    </tr>\n",
       "    <tr>\n",
       "      <th>16</th>\n",
       "      <td>250</td>\n",
       "      <td>-0.675992</td>\n",
       "    </tr>\n",
       "    <tr>\n",
       "      <th>17</th>\n",
       "      <td>450</td>\n",
       "      <td>-0.348318</td>\n",
       "    </tr>\n",
       "    <tr>\n",
       "      <th>18</th>\n",
       "      <td>150</td>\n",
       "      <td>-0.839829</td>\n",
       "    </tr>\n",
       "    <tr>\n",
       "      <th>19</th>\n",
       "      <td>50</td>\n",
       "      <td>-1.003666</td>\n",
       "    </tr>\n",
       "    <tr>\n",
       "      <th>20</th>\n",
       "      <td>30</td>\n",
       "      <td>-1.036433</td>\n",
       "    </tr>\n",
       "    <tr>\n",
       "      <th>21</th>\n",
       "      <td>40</td>\n",
       "      <td>-1.020050</td>\n",
       "    </tr>\n",
       "    <tr>\n",
       "      <th>22</th>\n",
       "      <td>75</td>\n",
       "      <td>-0.962707</td>\n",
       "    </tr>\n",
       "    <tr>\n",
       "      <th>23</th>\n",
       "      <td>150</td>\n",
       "      <td>-0.839829</td>\n",
       "    </tr>\n",
       "    <tr>\n",
       "      <th>24</th>\n",
       "      <td>100</td>\n",
       "      <td>-0.921747</td>\n",
       "    </tr>\n",
       "  </tbody>\n",
       "</table>\n",
       "</div>"
      ],
      "text/plain": [
       "    org_values  scaled_values\n",
       "0          100      -0.921747\n",
       "1          500      -0.266399\n",
       "2         1000       0.552786\n",
       "3          800       0.225112\n",
       "4          750       0.143194\n",
       "5         1200       0.880461\n",
       "6         2000       2.191157\n",
       "7         1800       1.863483\n",
       "8         1900       2.027320\n",
       "9         1650       1.617727\n",
       "10        1000       0.552786\n",
       "11         550      -0.184481\n",
       "12         670       0.012124\n",
       "13         700       0.061275\n",
       "14         450      -0.348318\n",
       "15         200      -0.757910\n",
       "16         250      -0.675992\n",
       "17         450      -0.348318\n",
       "18         150      -0.839829\n",
       "19          50      -1.003666\n",
       "20          30      -1.036433\n",
       "21          40      -1.020050\n",
       "22          75      -0.962707\n",
       "23         150      -0.839829\n",
       "24         100      -0.921747"
      ]
     },
     "execution_count": 23,
     "metadata": {},
     "output_type": "execute_result"
    }
   ],
   "source": [
    "import pandas as pd\n",
    "df1 = pd.DataFrame(data=liste, columns=['org_values'])\n",
    "\n",
    "df2 = pd.DataFrame(data=arr_scaled, columns=['scaled_values'])\n",
    "\n",
    "df = pd.concat([df1, df2], axis = 1)\n",
    "df"
   ]
  },
  {
   "cell_type": "code",
   "execution_count": 17,
   "metadata": {},
   "outputs": [
    {
     "name": "stdout",
     "output_type": "stream",
     "text": [
      "hey\n"
     ]
    }
   ],
   "source": [
    "u = 'hey'\n",
    "print(f'{u}')"
   ]
  },
  {
   "cell_type": "code",
   "execution_count": 19,
   "metadata": {},
   "outputs": [
    {
     "data": {
      "text/plain": [
       "array([1, 2, 3, 4])"
      ]
     },
     "execution_count": 19,
     "metadata": {},
     "output_type": "execute_result"
    }
   ],
   "source": [
    "import numpy as np\n",
    "\n",
    "u = np.array([1,2,3])\n",
    "w = np.array([4])\n",
    "\n",
    "np.concatenate([u,w])"
   ]
  },
  {
   "cell_type": "code",
   "execution_count": 16,
   "metadata": {},
   "outputs": [
    {
     "data": {
      "text/plain": [
       "float"
      ]
     },
     "execution_count": 16,
     "metadata": {},
     "output_type": "execute_result"
    }
   ],
   "source": [
    "from time import time\n",
    "# Başlangıç zamanını kaydet\n",
    "start_time = time()\n",
    "\n",
    "# Burada programınızı çalıştırın\n",
    "# Örnek olarak, bir işlem yapabilirsiniz\n",
    "for i in range(100000): \n",
    "    i = i * i * i * i * i * i\n",
    "    \n",
    "\n",
    "# Bitiş zamanını kaydet\n",
    "end_time = time()\n",
    "\n",
    "# Çalışma süresini hesapla\n",
    "u = end_time - start_time\n"
   ]
  },
  {
   "cell_type": "code",
   "execution_count": 22,
   "metadata": {},
   "outputs": [
    {
     "data": {
      "text/html": [
       "<div>\n",
       "<style scoped>\n",
       "    .dataframe tbody tr th:only-of-type {\n",
       "        vertical-align: middle;\n",
       "    }\n",
       "\n",
       "    .dataframe tbody tr th {\n",
       "        vertical-align: top;\n",
       "    }\n",
       "\n",
       "    .dataframe thead th {\n",
       "        text-align: right;\n",
       "    }\n",
       "</style>\n",
       "<table border=\"1\" class=\"dataframe\">\n",
       "  <thead>\n",
       "    <tr style=\"text-align: right;\">\n",
       "      <th></th>\n",
       "      <th>other_column</th>\n",
       "      <th>value</th>\n",
       "    </tr>\n",
       "  </thead>\n",
       "  <tbody>\n",
       "    <tr>\n",
       "      <th>2023-08-01</th>\n",
       "      <td>NaN</td>\n",
       "      <td>NaN</td>\n",
       "    </tr>\n",
       "    <tr>\n",
       "      <th>2023-08-02</th>\n",
       "      <td>NaN</td>\n",
       "      <td>NaN</td>\n",
       "    </tr>\n",
       "    <tr>\n",
       "      <th>2023-08-03</th>\n",
       "      <td>NaN</td>\n",
       "      <td>NaN</td>\n",
       "    </tr>\n",
       "    <tr>\n",
       "      <th>2023-08-04</th>\n",
       "      <td>100.0</td>\n",
       "      <td>10.0</td>\n",
       "    </tr>\n",
       "    <tr>\n",
       "      <th>2023-08-05</th>\n",
       "      <td>200.0</td>\n",
       "      <td>20.0</td>\n",
       "    </tr>\n",
       "    <tr>\n",
       "      <th>2023-08-06</th>\n",
       "      <td>300.0</td>\n",
       "      <td>30.0</td>\n",
       "    </tr>\n",
       "    <tr>\n",
       "      <th>2023-08-07</th>\n",
       "      <td>400.0</td>\n",
       "      <td>40.0</td>\n",
       "    </tr>\n",
       "    <tr>\n",
       "      <th>2023-08-08</th>\n",
       "      <td>500.0</td>\n",
       "      <td>50.0</td>\n",
       "    </tr>\n",
       "  </tbody>\n",
       "</table>\n",
       "</div>"
      ],
      "text/plain": [
       "            other_column  value\n",
       "2023-08-01           NaN    NaN\n",
       "2023-08-02           NaN    NaN\n",
       "2023-08-03           NaN    NaN\n",
       "2023-08-04         100.0   10.0\n",
       "2023-08-05         200.0   20.0\n",
       "2023-08-06         300.0   30.0\n",
       "2023-08-07         400.0   40.0\n",
       "2023-08-08         500.0   50.0"
      ]
     },
     "execution_count": 22,
     "metadata": {},
     "output_type": "execute_result"
    }
   ],
   "source": [
    "import pandas as pd\n",
    "\n",
    "# Örnek veri oluşturma (index: datetime formatında)\n",
    "data = {'value': [10, 20, 30, 40, 50, 60, 70, 80],\n",
    "        'other_column': [100, 200, 300, 400, 500, 600, 700, 800]}\n",
    "\n",
    "index = pd.date_range(start='2023-08-01', periods=8, freq='D')\n",
    "df = pd.DataFrame(data, index=index)\n",
    "\n",
    "# Tüm verileri 3 gün ileri kaydırma\n",
    "shifted_df = df.shift(periods=3, fill_value=None)\n",
    "\n",
    "shifted_df = shifted_df[['other_column', 'value']]\n",
    "shifted_df"
   ]
  },
  {
   "cell_type": "code",
   "execution_count": 71,
   "metadata": {},
   "outputs": [
    {
     "name": "stdout",
     "output_type": "stream",
     "text": [
      "            value  other_column\n",
      "2023-08-01    NaN           100\n",
      "2023-08-02    NaN           200\n",
      "2023-08-03    NaN           300\n",
      "2023-08-04   10.0           400\n",
      "2023-08-05   20.0           500\n",
      "2023-08-06   30.0           600\n",
      "2023-08-07   40.0           700\n",
      "2023-08-08   50.0           800\n"
     ]
    }
   ],
   "source": [
    "import pandas as pd\n",
    "\n",
    "# Örnek veri oluşturma (index: datetime formatında)\n",
    "data = {'value': [10, 20, 30, 40, 50, 60, 70, 80],\n",
    "        'other_column': [100, 200, 300, 400, 500, 600, 700, 800]}\n",
    "\n",
    "index = pd.date_range(start='2023-08-01', periods=8, freq='D')\n",
    "df = pd.DataFrame(data, index=index)\n",
    "\n",
    "# 'value' sütununu 3 gün ileri kaydırma\n",
    "df['value'] = df['value'].shift(3)\n",
    "\n",
    "# Eğer 'value' sütununu 3 gün geri kaydırmak isterseniz:\n",
    "# df['value'] = df['value'].shift(3)\n",
    "\n",
    "print(df)"
   ]
  },
  {
   "cell_type": "markdown",
   "metadata": {},
   "source": [
    "---"
   ]
  },
  {
   "cell_type": "code",
   "execution_count": 72,
   "metadata": {},
   "outputs": [
    {
     "name": "stdout",
     "output_type": "stream",
     "text": [
      "            value\n",
      "2023-08-01     10\n",
      "2023-08-02     20\n",
      "2023-08-03     30\n",
      "2023-08-04     40\n",
      "2023-08-05     50\n",
      "2023-08-06     60\n",
      "2023-08-07     70\n",
      "2023-08-08     80\n"
     ]
    }
   ],
   "source": [
    "import pandas as pd\n",
    "\n",
    "data = {'value': [10, 20, 30, 40, 50, 60, 70, 80]}\n",
    "index = pd.date_range(start='2023-08-01', periods=len(data['value']), freq='D')\n",
    "\n",
    "df = pd.DataFrame(data, index=index)\n",
    "print(df)"
   ]
  },
  {
   "cell_type": "code",
   "execution_count": 73,
   "metadata": {},
   "outputs": [
    {
     "name": "stdout",
     "output_type": "stream",
     "text": [
      "2023-08-01    100\n",
      "2023-08-02    200\n",
      "2023-08-03    300\n",
      "2023-08-04    400\n",
      "2023-08-05    500\n",
      "2023-08-06    600\n",
      "2023-08-07    700\n",
      "2023-08-08    800\n",
      "Freq: D, dtype: int64\n"
     ]
    }
   ],
   "source": [
    "import pandas as pd\n",
    "\n",
    "data = {'other_column': [100, 200, 300, 400, 500, 600, 700, 800]}\n",
    "index = pd.date_range(start='2023-08-01', periods=len(data['other_column']), freq='D')\n",
    "\n",
    "other_column = pd.Series(data['other_column'], index=index)\n",
    "print(other_column)\n"
   ]
  },
  {
   "cell_type": "code",
   "execution_count": 74,
   "metadata": {},
   "outputs": [
    {
     "name": "stdout",
     "output_type": "stream",
     "text": [
      "2023-08-04    10\n",
      "2023-08-05    20\n",
      "2023-08-06    30\n",
      "2023-08-07    40\n",
      "2023-08-08    50\n",
      "2023-08-09    60\n",
      "2023-08-10    70\n",
      "2023-08-11    80\n",
      "dtype: int64\n"
     ]
    }
   ],
   "source": [
    "import pandas as pd\n",
    "\n",
    "# Örnek veri oluşturma (index: datetime formatında)\n",
    "data = {'value': [10, 20, 30, 40, 50, 60, 70, 80]}\n",
    "index = pd.date_range(start='2023-08-01', periods=len(data['value']), freq='D')\n",
    "\n",
    "value_series = pd.Series(data['value'], index=index)\n",
    "shifted_value_series = value_series.copy()\n",
    "shifted_value_series.index = shifted_value_series.index + pd.DateOffset(days=3)\n",
    "\n",
    "print(shifted_value_series)"
   ]
  },
  {
   "cell_type": "code",
   "execution_count": 75,
   "metadata": {},
   "outputs": [
    {
     "data": {
      "text/plain": [
       "2023-08-01    100\n",
       "2023-08-02    200\n",
       "2023-08-03    300\n",
       "2023-08-04    400\n",
       "2023-08-05    500\n",
       "2023-08-06    600\n",
       "2023-08-07    700\n",
       "2023-08-08    800\n",
       "Freq: D, dtype: int64"
      ]
     },
     "execution_count": 75,
     "metadata": {},
     "output_type": "execute_result"
    }
   ],
   "source": [
    "other_column"
   ]
  },
  {
   "cell_type": "code",
   "execution_count": 76,
   "metadata": {},
   "outputs": [],
   "source": [
    "df_concat = pd.concat([shifted_value_series,other_column ], axis=1)"
   ]
  },
  {
   "cell_type": "code",
   "execution_count": 77,
   "metadata": {},
   "outputs": [
    {
     "data": {
      "text/html": [
       "<div>\n",
       "<style scoped>\n",
       "    .dataframe tbody tr th:only-of-type {\n",
       "        vertical-align: middle;\n",
       "    }\n",
       "\n",
       "    .dataframe tbody tr th {\n",
       "        vertical-align: top;\n",
       "    }\n",
       "\n",
       "    .dataframe thead th {\n",
       "        text-align: right;\n",
       "    }\n",
       "</style>\n",
       "<table border=\"1\" class=\"dataframe\">\n",
       "  <thead>\n",
       "    <tr style=\"text-align: right;\">\n",
       "      <th></th>\n",
       "      <th>0</th>\n",
       "      <th>1</th>\n",
       "    </tr>\n",
       "  </thead>\n",
       "  <tbody>\n",
       "    <tr>\n",
       "      <th>2023-08-01</th>\n",
       "      <td>NaN</td>\n",
       "      <td>100.0</td>\n",
       "    </tr>\n",
       "    <tr>\n",
       "      <th>2023-08-02</th>\n",
       "      <td>NaN</td>\n",
       "      <td>200.0</td>\n",
       "    </tr>\n",
       "    <tr>\n",
       "      <th>2023-08-03</th>\n",
       "      <td>NaN</td>\n",
       "      <td>300.0</td>\n",
       "    </tr>\n",
       "    <tr>\n",
       "      <th>2023-08-04</th>\n",
       "      <td>10.0</td>\n",
       "      <td>400.0</td>\n",
       "    </tr>\n",
       "    <tr>\n",
       "      <th>2023-08-05</th>\n",
       "      <td>20.0</td>\n",
       "      <td>500.0</td>\n",
       "    </tr>\n",
       "    <tr>\n",
       "      <th>2023-08-06</th>\n",
       "      <td>30.0</td>\n",
       "      <td>600.0</td>\n",
       "    </tr>\n",
       "    <tr>\n",
       "      <th>2023-08-07</th>\n",
       "      <td>40.0</td>\n",
       "      <td>700.0</td>\n",
       "    </tr>\n",
       "    <tr>\n",
       "      <th>2023-08-08</th>\n",
       "      <td>50.0</td>\n",
       "      <td>800.0</td>\n",
       "    </tr>\n",
       "    <tr>\n",
       "      <th>2023-08-09</th>\n",
       "      <td>60.0</td>\n",
       "      <td>NaN</td>\n",
       "    </tr>\n",
       "    <tr>\n",
       "      <th>2023-08-10</th>\n",
       "      <td>70.0</td>\n",
       "      <td>NaN</td>\n",
       "    </tr>\n",
       "    <tr>\n",
       "      <th>2023-08-11</th>\n",
       "      <td>80.0</td>\n",
       "      <td>NaN</td>\n",
       "    </tr>\n",
       "  </tbody>\n",
       "</table>\n",
       "</div>"
      ],
      "text/plain": [
       "               0      1\n",
       "2023-08-01   NaN  100.0\n",
       "2023-08-02   NaN  200.0\n",
       "2023-08-03   NaN  300.0\n",
       "2023-08-04  10.0  400.0\n",
       "2023-08-05  20.0  500.0\n",
       "2023-08-06  30.0  600.0\n",
       "2023-08-07  40.0  700.0\n",
       "2023-08-08  50.0  800.0\n",
       "2023-08-09  60.0    NaN\n",
       "2023-08-10  70.0    NaN\n",
       "2023-08-11  80.0    NaN"
      ]
     },
     "execution_count": 77,
     "metadata": {},
     "output_type": "execute_result"
    }
   ],
   "source": [
    "df_concat"
   ]
  },
  {
   "cell_type": "code",
   "execution_count": 78,
   "metadata": {},
   "outputs": [],
   "source": [
    "# Örnek veri oluşturma\n",
    "import numpy as np\n",
    "np.random.seed(42)\n",
    "date_rng = pd.date_range(start='2023-01-01', end='2023-08-01', freq='D')\n",
    "data = np.sin(np.arange(len(date_rng))) + np.random.normal(0, 0.1, size=len(date_rng))\n",
    "df = pd.DataFrame(data, columns=['value'], index=date_rng)\n",
    "\n",
    "# Lag özellikleri oluşturma (önceki değerler)\n",
    "for i in range(1, 8):\n",
    "    df[f'lag_{i}'] = df['value'].shift(i)"
   ]
  },
  {
   "cell_type": "code",
   "execution_count": 79,
   "metadata": {},
   "outputs": [
    {
     "data": {
      "text/html": [
       "<div>\n",
       "<style scoped>\n",
       "    .dataframe tbody tr th:only-of-type {\n",
       "        vertical-align: middle;\n",
       "    }\n",
       "\n",
       "    .dataframe tbody tr th {\n",
       "        vertical-align: top;\n",
       "    }\n",
       "\n",
       "    .dataframe thead th {\n",
       "        text-align: right;\n",
       "    }\n",
       "</style>\n",
       "<table border=\"1\" class=\"dataframe\">\n",
       "  <thead>\n",
       "    <tr style=\"text-align: right;\">\n",
       "      <th></th>\n",
       "      <th>value</th>\n",
       "      <th>lag_1</th>\n",
       "      <th>lag_2</th>\n",
       "      <th>lag_3</th>\n",
       "      <th>lag_4</th>\n",
       "      <th>lag_5</th>\n",
       "      <th>lag_6</th>\n",
       "      <th>lag_7</th>\n",
       "    </tr>\n",
       "  </thead>\n",
       "  <tbody>\n",
       "    <tr>\n",
       "      <th>2023-01-01</th>\n",
       "      <td>0.049671</td>\n",
       "      <td>NaN</td>\n",
       "      <td>NaN</td>\n",
       "      <td>NaN</td>\n",
       "      <td>NaN</td>\n",
       "      <td>NaN</td>\n",
       "      <td>NaN</td>\n",
       "      <td>NaN</td>\n",
       "    </tr>\n",
       "    <tr>\n",
       "      <th>2023-01-02</th>\n",
       "      <td>0.827645</td>\n",
       "      <td>0.049671</td>\n",
       "      <td>NaN</td>\n",
       "      <td>NaN</td>\n",
       "      <td>NaN</td>\n",
       "      <td>NaN</td>\n",
       "      <td>NaN</td>\n",
       "      <td>NaN</td>\n",
       "    </tr>\n",
       "    <tr>\n",
       "      <th>2023-01-03</th>\n",
       "      <td>0.974066</td>\n",
       "      <td>0.827645</td>\n",
       "      <td>0.049671</td>\n",
       "      <td>NaN</td>\n",
       "      <td>NaN</td>\n",
       "      <td>NaN</td>\n",
       "      <td>NaN</td>\n",
       "      <td>NaN</td>\n",
       "    </tr>\n",
       "    <tr>\n",
       "      <th>2023-01-04</th>\n",
       "      <td>0.293423</td>\n",
       "      <td>0.974066</td>\n",
       "      <td>0.827645</td>\n",
       "      <td>0.049671</td>\n",
       "      <td>NaN</td>\n",
       "      <td>NaN</td>\n",
       "      <td>NaN</td>\n",
       "      <td>NaN</td>\n",
       "    </tr>\n",
       "    <tr>\n",
       "      <th>2023-01-05</th>\n",
       "      <td>-0.780218</td>\n",
       "      <td>0.293423</td>\n",
       "      <td>0.974066</td>\n",
       "      <td>0.827645</td>\n",
       "      <td>0.049671</td>\n",
       "      <td>NaN</td>\n",
       "      <td>NaN</td>\n",
       "      <td>NaN</td>\n",
       "    </tr>\n",
       "    <tr>\n",
       "      <th>...</th>\n",
       "      <td>...</td>\n",
       "      <td>...</td>\n",
       "      <td>...</td>\n",
       "      <td>...</td>\n",
       "      <td>...</td>\n",
       "      <td>...</td>\n",
       "      <td>...</td>\n",
       "      <td>...</td>\n",
       "    </tr>\n",
       "    <tr>\n",
       "      <th>2023-07-28</th>\n",
       "      <td>0.660573</td>\n",
       "      <td>-0.286926</td>\n",
       "      <td>-0.923138</td>\n",
       "      <td>-0.808680</td>\n",
       "      <td>0.064353</td>\n",
       "      <td>1.038690</td>\n",
       "      <td>0.914724</td>\n",
       "      <td>-0.005812</td>\n",
       "    </tr>\n",
       "    <tr>\n",
       "      <th>2023-07-29</th>\n",
       "      <td>1.381740</td>\n",
       "      <td>0.660573</td>\n",
       "      <td>-0.286926</td>\n",
       "      <td>-0.923138</td>\n",
       "      <td>-0.808680</td>\n",
       "      <td>0.064353</td>\n",
       "      <td>1.038690</td>\n",
       "      <td>0.914724</td>\n",
       "    </tr>\n",
       "    <tr>\n",
       "      <th>2023-07-30</th>\n",
       "      <td>0.524808</td>\n",
       "      <td>1.381740</td>\n",
       "      <td>0.660573</td>\n",
       "      <td>-0.286926</td>\n",
       "      <td>-0.923138</td>\n",
       "      <td>-0.808680</td>\n",
       "      <td>0.064353</td>\n",
       "      <td>1.038690</td>\n",
       "    </tr>\n",
       "    <tr>\n",
       "      <th>2023-07-31</th>\n",
       "      <td>-0.377491</td>\n",
       "      <td>0.524808</td>\n",
       "      <td>1.381740</td>\n",
       "      <td>0.660573</td>\n",
       "      <td>-0.286926</td>\n",
       "      <td>-0.923138</td>\n",
       "      <td>-0.808680</td>\n",
       "      <td>0.064353</td>\n",
       "    </tr>\n",
       "    <tr>\n",
       "      <th>2023-08-01</th>\n",
       "      <td>-0.902947</td>\n",
       "      <td>-0.377491</td>\n",
       "      <td>0.524808</td>\n",
       "      <td>1.381740</td>\n",
       "      <td>0.660573</td>\n",
       "      <td>-0.286926</td>\n",
       "      <td>-0.923138</td>\n",
       "      <td>-0.808680</td>\n",
       "    </tr>\n",
       "  </tbody>\n",
       "</table>\n",
       "<p>213 rows × 8 columns</p>\n",
       "</div>"
      ],
      "text/plain": [
       "               value     lag_1     lag_2     lag_3     lag_4     lag_5  \\\n",
       "2023-01-01  0.049671       NaN       NaN       NaN       NaN       NaN   \n",
       "2023-01-02  0.827645  0.049671       NaN       NaN       NaN       NaN   \n",
       "2023-01-03  0.974066  0.827645  0.049671       NaN       NaN       NaN   \n",
       "2023-01-04  0.293423  0.974066  0.827645  0.049671       NaN       NaN   \n",
       "2023-01-05 -0.780218  0.293423  0.974066  0.827645  0.049671       NaN   \n",
       "...              ...       ...       ...       ...       ...       ...   \n",
       "2023-07-28  0.660573 -0.286926 -0.923138 -0.808680  0.064353  1.038690   \n",
       "2023-07-29  1.381740  0.660573 -0.286926 -0.923138 -0.808680  0.064353   \n",
       "2023-07-30  0.524808  1.381740  0.660573 -0.286926 -0.923138 -0.808680   \n",
       "2023-07-31 -0.377491  0.524808  1.381740  0.660573 -0.286926 -0.923138   \n",
       "2023-08-01 -0.902947 -0.377491  0.524808  1.381740  0.660573 -0.286926   \n",
       "\n",
       "               lag_6     lag_7  \n",
       "2023-01-01       NaN       NaN  \n",
       "2023-01-02       NaN       NaN  \n",
       "2023-01-03       NaN       NaN  \n",
       "2023-01-04       NaN       NaN  \n",
       "2023-01-05       NaN       NaN  \n",
       "...              ...       ...  \n",
       "2023-07-28  0.914724 -0.005812  \n",
       "2023-07-29  1.038690  0.914724  \n",
       "2023-07-30  0.064353  1.038690  \n",
       "2023-07-31 -0.808680  0.064353  \n",
       "2023-08-01 -0.923138 -0.808680  \n",
       "\n",
       "[213 rows x 8 columns]"
      ]
     },
     "execution_count": 79,
     "metadata": {},
     "output_type": "execute_result"
    }
   ],
   "source": [
    "df"
   ]
  },
  {
   "cell_type": "code",
   "execution_count": 80,
   "metadata": {},
   "outputs": [],
   "source": [
    "import numpy as np"
   ]
  },
  {
   "cell_type": "code",
   "execution_count": 81,
   "metadata": {},
   "outputs": [],
   "source": [
    "X_liste = []\n",
    "\n",
    "for i in range(10):\n",
    "    X_liste.append(np.random.randint(1,100,size=(2, 5)))\n"
   ]
  },
  {
   "cell_type": "code",
   "execution_count": 82,
   "metadata": {},
   "outputs": [
    {
     "data": {
      "text/plain": [
       "(10, 2, 5)"
      ]
     },
     "execution_count": 82,
     "metadata": {},
     "output_type": "execute_result"
    }
   ],
   "source": [
    "arr = np.array(X_liste)\n",
    "arr.shape"
   ]
  },
  {
   "cell_type": "code",
   "execution_count": 83,
   "metadata": {},
   "outputs": [
    {
     "data": {
      "text/plain": [
       "array([[[76, 87, 15, 92, 98],\n",
       "        [66, 32, 87, 63, 86]],\n",
       "\n",
       "       [[51, 25, 58, 63, 62],\n",
       "        [22, 58, 58, 86, 49]],\n",
       "\n",
       "       [[52, 42, 70, 15, 54],\n",
       "        [60, 97,  8, 53, 60]],\n",
       "\n",
       "       [[ 5, 68,  6, 96, 94],\n",
       "        [47, 99, 55, 40, 52]],\n",
       "\n",
       "       [[16, 13, 30, 19, 17],\n",
       "        [63, 19, 92, 58, 55]],\n",
       "\n",
       "       [[90, 90, 62, 23,  9],\n",
       "        [12,  1, 58,  1, 34]],\n",
       "\n",
       "       [[96, 48, 89,  1, 16],\n",
       "        [61, 64, 63, 69, 22]],\n",
       "\n",
       "       [[93, 67, 76, 26, 16],\n",
       "        [51, 86, 57, 29, 78]],\n",
       "\n",
       "       [[92, 69, 47, 94, 62],\n",
       "        [69, 76, 16, 90, 90]],\n",
       "\n",
       "       [[48, 85, 39, 33, 94],\n",
       "        [23, 10, 69, 34, 52]]])"
      ]
     },
     "execution_count": 83,
     "metadata": {},
     "output_type": "execute_result"
    }
   ],
   "source": [
    "arr"
   ]
  },
  {
   "cell_type": "code",
   "execution_count": 84,
   "metadata": {},
   "outputs": [
    {
     "name": "stdout",
     "output_type": "stream",
     "text": [
      "10\n",
      "9\n",
      "8\n",
      "7\n",
      "6\n",
      "5\n",
      "4\n",
      "3\n",
      "2\n",
      "1\n"
     ]
    }
   ],
   "source": [
    "for i in range(10, 0, -1):\n",
    "    print(i)"
   ]
  },
  {
   "cell_type": "code",
   "execution_count": 85,
   "metadata": {},
   "outputs": [
    {
     "data": {
      "text/plain": [
       "array([100, 101, 102, 103])"
      ]
     },
     "execution_count": 85,
     "metadata": {},
     "output_type": "execute_result"
    }
   ],
   "source": [
    "import numpy as np\n",
    "u = np.array([1,2,3,4,5,100,101,102,103])\n",
    "u[5:]"
   ]
  },
  {
   "cell_type": "code",
   "execution_count": 86,
   "metadata": {},
   "outputs": [
    {
     "data": {
      "text/plain": [
       "(9,)"
      ]
     },
     "execution_count": 86,
     "metadata": {},
     "output_type": "execute_result"
    }
   ],
   "source": [
    "u.shape"
   ]
  },
  {
   "cell_type": "code",
   "execution_count": 87,
   "metadata": {},
   "outputs": [
    {
     "data": {
      "text/plain": [
       "(1, 3)"
      ]
     },
     "execution_count": 87,
     "metadata": {},
     "output_type": "execute_result"
    }
   ],
   "source": [
    "w = np.array([[1, 2, 3]])\n",
    "\n",
    "w.shape"
   ]
  },
  {
   "cell_type": "code",
   "execution_count": 88,
   "metadata": {},
   "outputs": [],
   "source": [
    "ar = np.array([[1],[7],[8]])"
   ]
  },
  {
   "cell_type": "code",
   "execution_count": 89,
   "metadata": {},
   "outputs": [
    {
     "data": {
      "text/plain": [
       "(1, 3)"
      ]
     },
     "execution_count": 89,
     "metadata": {},
     "output_type": "execute_result"
    }
   ],
   "source": [
    "w.shape"
   ]
  },
  {
   "cell_type": "code",
   "execution_count": 90,
   "metadata": {},
   "outputs": [
    {
     "data": {
      "text/plain": [
       "(3, 1)"
      ]
     },
     "execution_count": 90,
     "metadata": {},
     "output_type": "execute_result"
    }
   ],
   "source": [
    "ar.shape"
   ]
  },
  {
   "cell_type": "code",
   "execution_count": 91,
   "metadata": {},
   "outputs": [],
   "source": [
    "wr = w.reshape(-1, 1)"
   ]
  },
  {
   "cell_type": "code",
   "execution_count": 92,
   "metadata": {},
   "outputs": [
    {
     "data": {
      "text/plain": [
       "(6, 1)"
      ]
     },
     "execution_count": 92,
     "metadata": {},
     "output_type": "execute_result"
    }
   ],
   "source": [
    "uw = np.concatenate((ar, wr), axis = 0)\n",
    "uw.shape"
   ]
  },
  {
   "cell_type": "code",
   "execution_count": 93,
   "metadata": {},
   "outputs": [
    {
     "data": {
      "text/plain": [
       "array([[ 1,  2,  3, 10, 20, 30,  4]])"
      ]
     },
     "execution_count": 93,
     "metadata": {},
     "output_type": "execute_result"
    }
   ],
   "source": [
    "u1 = np.array([[1,2,3]])\n",
    "u2 = np.array([[10,20,30,4]])\n",
    "\n",
    "np.concatenate((u1, u2), axis=1)"
   ]
  },
  {
   "cell_type": "code",
   "execution_count": 94,
   "metadata": {},
   "outputs": [
    {
     "data": {
      "text/plain": [
       "array([[1, 2, 3]])"
      ]
     },
     "execution_count": 94,
     "metadata": {},
     "output_type": "execute_result"
    }
   ],
   "source": [
    "u1 = np.array([[1],[2],[3]])\n",
    "k1 = u1.reshape(1,-1)\n",
    "k1"
   ]
  },
  {
   "cell_type": "code",
   "execution_count": 95,
   "metadata": {},
   "outputs": [],
   "source": [
    "# Örnek bir DataFrame oluşturalım\n",
    "import pandas as pd\n",
    "data = {'Feature1': [1, 2, 3],\n",
    "        'Feature2': [4, 5, 6]}\n",
    "pad = pd.DataFrame(data)"
   ]
  },
  {
   "cell_type": "code",
   "execution_count": 96,
   "metadata": {},
   "outputs": [
    {
     "data": {
      "text/plain": [
       "(1, 2)"
      ]
     },
     "execution_count": 96,
     "metadata": {},
     "output_type": "execute_result"
    }
   ],
   "source": [
    "pad.iloc[0:1,:].values.shape"
   ]
  },
  {
   "cell_type": "code",
   "execution_count": 97,
   "metadata": {},
   "outputs": [
    {
     "data": {
      "text/plain": [
       "str"
      ]
     },
     "execution_count": 97,
     "metadata": {},
     "output_type": "execute_result"
    }
   ],
   "source": [
    "u = pad.columns[0]\n",
    "type(u)"
   ]
  },
  {
   "cell_type": "code",
   "execution_count": 98,
   "metadata": {},
   "outputs": [
    {
     "data": {
      "text/html": [
       "<div>\n",
       "<style scoped>\n",
       "    .dataframe tbody tr th:only-of-type {\n",
       "        vertical-align: middle;\n",
       "    }\n",
       "\n",
       "    .dataframe tbody tr th {\n",
       "        vertical-align: top;\n",
       "    }\n",
       "\n",
       "    .dataframe thead th {\n",
       "        text-align: right;\n",
       "    }\n",
       "</style>\n",
       "<table border=\"1\" class=\"dataframe\">\n",
       "  <thead>\n",
       "    <tr style=\"text-align: right;\">\n",
       "      <th></th>\n",
       "      <th>Column_A</th>\n",
       "      <th>Column_B</th>\n",
       "      <th>Column_C</th>\n",
       "      <th>Column_D</th>\n",
       "    </tr>\n",
       "  </thead>\n",
       "  <tbody>\n",
       "    <tr>\n",
       "      <th>0</th>\n",
       "      <td>95</td>\n",
       "      <td>0.943892</td>\n",
       "      <td>C</td>\n",
       "      <td>0.651391</td>\n",
       "    </tr>\n",
       "    <tr>\n",
       "      <th>1</th>\n",
       "      <td>10</td>\n",
       "      <td>0.944252</td>\n",
       "      <td>A</td>\n",
       "      <td>0.110300</td>\n",
       "    </tr>\n",
       "    <tr>\n",
       "      <th>2</th>\n",
       "      <td>19</td>\n",
       "      <td>0.867199</td>\n",
       "      <td>A</td>\n",
       "      <td>-0.430025</td>\n",
       "    </tr>\n",
       "    <tr>\n",
       "      <th>3</th>\n",
       "      <td>58</td>\n",
       "      <td>0.636404</td>\n",
       "      <td>B</td>\n",
       "      <td>1.230211</td>\n",
       "    </tr>\n",
       "    <tr>\n",
       "      <th>4</th>\n",
       "      <td>96</td>\n",
       "      <td>0.800949</td>\n",
       "      <td>C</td>\n",
       "      <td>-1.291224</td>\n",
       "    </tr>\n",
       "    <tr>\n",
       "      <th>5</th>\n",
       "      <td>1</td>\n",
       "      <td>0.677168</td>\n",
       "      <td>A</td>\n",
       "      <td>1.554923</td>\n",
       "    </tr>\n",
       "    <tr>\n",
       "      <th>6</th>\n",
       "      <td>69</td>\n",
       "      <td>0.573367</td>\n",
       "      <td>A</td>\n",
       "      <td>-0.981200</td>\n",
       "    </tr>\n",
       "    <tr>\n",
       "      <th>7</th>\n",
       "      <td>4</td>\n",
       "      <td>0.128500</td>\n",
       "      <td>C</td>\n",
       "      <td>-1.238231</td>\n",
       "    </tr>\n",
       "    <tr>\n",
       "      <th>8</th>\n",
       "      <td>16</td>\n",
       "      <td>0.811204</td>\n",
       "      <td>B</td>\n",
       "      <td>-0.824651</td>\n",
       "    </tr>\n",
       "    <tr>\n",
       "      <th>9</th>\n",
       "      <td>24</td>\n",
       "      <td>0.820639</td>\n",
       "      <td>B</td>\n",
       "      <td>1.951280</td>\n",
       "    </tr>\n",
       "  </tbody>\n",
       "</table>\n",
       "</div>"
      ],
      "text/plain": [
       "   Column_A  Column_B Column_C  Column_D\n",
       "0        95  0.943892        C  0.651391\n",
       "1        10  0.944252        A  0.110300\n",
       "2        19  0.867199        A -0.430025\n",
       "3        58  0.636404        B  1.230211\n",
       "4        96  0.800949        C -1.291224\n",
       "5         1  0.677168        A  1.554923\n",
       "6        69  0.573367        A -0.981200\n",
       "7         4  0.128500        C -1.238231\n",
       "8        16  0.811204        B -0.824651\n",
       "9        24  0.820639        B  1.951280"
      ]
     },
     "execution_count": 98,
     "metadata": {},
     "output_type": "execute_result"
    }
   ],
   "source": [
    "import pandas as pd\n",
    "import numpy as np\n",
    "\n",
    "data = {\n",
    "    'Column_A': np.random.randint(1, 100, 10),\n",
    "    'Column_B': np.random.uniform(0, 1, 10),\n",
    "    'Column_C': np.random.choice(['A', 'B', 'C'], 10),\n",
    "    'Column_D': np.random.randn(10)\n",
    "}\n",
    "\n",
    "df = pd.DataFrame(data)\n",
    "df"
   ]
  },
  {
   "cell_type": "code",
   "execution_count": 99,
   "metadata": {},
   "outputs": [
    {
     "data": {
      "text/html": [
       "<div>\n",
       "<style scoped>\n",
       "    .dataframe tbody tr th:only-of-type {\n",
       "        vertical-align: middle;\n",
       "    }\n",
       "\n",
       "    .dataframe tbody tr th {\n",
       "        vertical-align: top;\n",
       "    }\n",
       "\n",
       "    .dataframe thead th {\n",
       "        text-align: right;\n",
       "    }\n",
       "</style>\n",
       "<table border=\"1\" class=\"dataframe\">\n",
       "  <thead>\n",
       "    <tr style=\"text-align: right;\">\n",
       "      <th></th>\n",
       "      <th>Column_A</th>\n",
       "      <th>Column_B</th>\n",
       "      <th>Column_C</th>\n",
       "      <th>Column_D</th>\n",
       "    </tr>\n",
       "  </thead>\n",
       "  <tbody>\n",
       "    <tr>\n",
       "      <th>5</th>\n",
       "      <td>1</td>\n",
       "      <td>0.677168</td>\n",
       "      <td>A</td>\n",
       "      <td>1.554923</td>\n",
       "    </tr>\n",
       "    <tr>\n",
       "      <th>6</th>\n",
       "      <td>69</td>\n",
       "      <td>0.573367</td>\n",
       "      <td>A</td>\n",
       "      <td>-0.981200</td>\n",
       "    </tr>\n",
       "    <tr>\n",
       "      <th>7</th>\n",
       "      <td>4</td>\n",
       "      <td>0.128500</td>\n",
       "      <td>C</td>\n",
       "      <td>-1.238231</td>\n",
       "    </tr>\n",
       "    <tr>\n",
       "      <th>8</th>\n",
       "      <td>16</td>\n",
       "      <td>0.811204</td>\n",
       "      <td>B</td>\n",
       "      <td>-0.824651</td>\n",
       "    </tr>\n",
       "    <tr>\n",
       "      <th>9</th>\n",
       "      <td>24</td>\n",
       "      <td>0.820639</td>\n",
       "      <td>B</td>\n",
       "      <td>1.951280</td>\n",
       "    </tr>\n",
       "  </tbody>\n",
       "</table>\n",
       "</div>"
      ],
      "text/plain": [
       "   Column_A  Column_B Column_C  Column_D\n",
       "5         1  0.677168        A  1.554923\n",
       "6        69  0.573367        A -0.981200\n",
       "7         4  0.128500        C -1.238231\n",
       "8        16  0.811204        B -0.824651\n",
       "9        24  0.820639        B  1.951280"
      ]
     },
     "execution_count": 99,
     "metadata": {},
     "output_type": "execute_result"
    }
   ],
   "source": [
    "df.iloc[5:]"
   ]
  },
  {
   "cell_type": "code",
   "execution_count": 100,
   "metadata": {},
   "outputs": [
    {
     "data": {
      "text/plain": [
       "(1, 4)"
      ]
     },
     "execution_count": 100,
     "metadata": {},
     "output_type": "execute_result"
    }
   ],
   "source": [
    "target = df.columns[1]\n",
    "df.loc[3:6, [target]].values.reshape(1,-1).shape"
   ]
  },
  {
   "cell_type": "code",
   "execution_count": 101,
   "metadata": {},
   "outputs": [
    {
     "data": {
      "text/html": [
       "<div>\n",
       "<style scoped>\n",
       "    .dataframe tbody tr th:only-of-type {\n",
       "        vertical-align: middle;\n",
       "    }\n",
       "\n",
       "    .dataframe tbody tr th {\n",
       "        vertical-align: top;\n",
       "    }\n",
       "\n",
       "    .dataframe thead th {\n",
       "        text-align: right;\n",
       "    }\n",
       "</style>\n",
       "<table border=\"1\" class=\"dataframe\">\n",
       "  <thead>\n",
       "    <tr style=\"text-align: right;\">\n",
       "      <th></th>\n",
       "      <th>Column_A</th>\n",
       "      <th>Column_B</th>\n",
       "      <th>Column_C</th>\n",
       "      <th>Column_D</th>\n",
       "    </tr>\n",
       "  </thead>\n",
       "  <tbody>\n",
       "    <tr>\n",
       "      <th>2</th>\n",
       "      <td>19</td>\n",
       "      <td>0.867199</td>\n",
       "      <td>A</td>\n",
       "      <td>-0.430025</td>\n",
       "    </tr>\n",
       "  </tbody>\n",
       "</table>\n",
       "</div>"
      ],
      "text/plain": [
       "   Column_A  Column_B Column_C  Column_D\n",
       "2        19  0.867199        A -0.430025"
      ]
     },
     "execution_count": 101,
     "metadata": {},
     "output_type": "execute_result"
    }
   ],
   "source": [
    "df.iloc[2:3, :] # 4x1"
   ]
  },
  {
   "cell_type": "code",
   "execution_count": 102,
   "metadata": {},
   "outputs": [],
   "source": [
    "df_u = df.sort_index(ascending=False).reset_index(drop=True)"
   ]
  },
  {
   "cell_type": "code",
   "execution_count": 103,
   "metadata": {},
   "outputs": [
    {
     "data": {
      "text/plain": [
       "(1,)"
      ]
     },
     "execution_count": 103,
     "metadata": {},
     "output_type": "execute_result"
    }
   ],
   "source": [
    "\n",
    "df_u.loc[5, ['Column_A']].values.shape"
   ]
  },
  {
   "cell_type": "code",
   "execution_count": 104,
   "metadata": {},
   "outputs": [
    {
     "data": {
      "text/plain": [
       "(1, 75)"
      ]
     },
     "execution_count": 104,
     "metadata": {},
     "output_type": "execute_result"
    }
   ],
   "source": [
    "np.array([[1.26129096e-02, 1.50468435e-02, 1.44900714e-02, 1.04060393e-02,\n",
    "        1.13500635e-02, 8.44333989e-03, 4.35308682e-03, 3.00936870e-03,\n",
    "        3.13689750e-03, 5.26911688e-03, 3.60502152e-03, 2.78386045e-03,\n",
    "        3.69211437e-03, 1.34682858e-03, 2.97048797e-04, 0.00000000e+00,\n",
    "        2.98604026e-04, 4.62525195e-03, 6.83212233e-03, 7.12917112e-03,\n",
    "        1.31774579e-02, 9.67663672e-03, 1.14418220e-02, 1.11307761e-02,\n",
    "        1.24013985e-02, 8.30181402e-03, 8.78704556e-03, 5.57083136e-03,\n",
    "        9.84304626e-03, 7.43555130e-03, 9.11830940e-03, 7.47598726e-03,\n",
    "        9.03121656e-03, 1.00327842e-02, 8.57553438e-03, 8.92701620e-03,\n",
    "        8.65796153e-03, 1.20592480e-02, 1.17761963e-02, 1.15444671e-02,\n",
    "        1.16533332e-02, 5.83210989e-03, 6.03117924e-03, 5.73101998e-03,\n",
    "        4.06692463e-03, 6.36710877e-03, 5.32821559e-03, 5.58793889e-03,\n",
    "        6.18514694e-03, 5.86165924e-03, 6.98453480e-03, 4.87719909e-03,\n",
    "        4.79010625e-03, 5.46507577e-03, 5.17580312e-03, 5.37487247e-03,\n",
    "        5.33910220e-03, 5.32199467e-03, 5.08404459e-03, 3.32974594e-03,\n",
    "        1.00000000e+00, 0.00000000e+00, 0.00000000e+00, 0.00000000e+00,\n",
    "        0.00000000e+00, 0.00000000e+00, 0.00000000e+00, 0.00000000e+00,\n",
    "        0.00000000e+00, 0.00000000e+00, 1.00000000e+00, 0.00000000e+00,\n",
    "        5.46429887e-01, 4.18646635e-01, 5.21350997e-01]]).shape"
   ]
  },
  {
   "cell_type": "code",
   "execution_count": 105,
   "metadata": {},
   "outputs": [
    {
     "data": {
      "text/plain": [
       "array([[0.3483366 , 0.93664815, 0.03918633, 0.41794603, 0.96758055],\n",
       "       [0.54797188, 0.42347094, 0.56852028, 0.57592458, 0.73164776],\n",
       "       [0.12768973, 0.25001645, 0.58054401, 0.86711661, 0.56186669]])"
      ]
     },
     "execution_count": 105,
     "metadata": {},
     "output_type": "execute_result"
    }
   ],
   "source": [
    "import numpy as np\n",
    "\n",
    "arr = np.random.random(size=(3,5))\n",
    "arr"
   ]
  },
  {
   "cell_type": "code",
   "execution_count": 106,
   "metadata": {},
   "outputs": [
    {
     "ename": "SyntaxError",
     "evalue": "invalid syntax (1326972886.py, line 1)",
     "output_type": "error",
     "traceback": [
      "\u001b[1;36m  Cell \u001b[1;32mIn [106], line 1\u001b[1;36m\u001b[0m\n\u001b[1;33m    arr[]\u001b[0m\n\u001b[1;37m        ^\u001b[0m\n\u001b[1;31mSyntaxError\u001b[0m\u001b[1;31m:\u001b[0m invalid syntax\n"
     ]
    }
   ],
   "source": [
    "arr[]"
   ]
  },
  {
   "cell_type": "code",
   "execution_count": null,
   "metadata": {},
   "outputs": [],
   "source": [
    "import numpy as np"
   ]
  },
  {
   "cell_type": "code",
   "execution_count": 24,
   "metadata": {},
   "outputs": [
    {
     "data": {
      "text/plain": [
       "array([12, 32, 43,  1])"
      ]
     },
     "execution_count": 24,
     "metadata": {},
     "output_type": "execute_result"
    }
   ],
   "source": [
    "arr = [12,32,43]\n",
    "new = 1\n",
    "\n",
    "arr = np.append(arr,new)\n",
    "arr"
   ]
  },
  {
   "cell_type": "code",
   "execution_count": null,
   "metadata": {},
   "outputs": [],
   "source": [
    "ep = np.array([])"
   ]
  },
  {
   "cell_type": "code",
   "execution_count": null,
   "metadata": {},
   "outputs": [],
   "source": [
    "liste1 = np.array([1,2,3])\n",
    "liste2 = np.array([10,20,30,40,50,60,70])\n",
    "ep = np.append(ep, np.concatenate([liste1, liste2]))\n"
   ]
  },
  {
   "cell_type": "code",
   "execution_count": null,
   "metadata": {},
   "outputs": [],
   "source": [
    "liste1 = np.array([5,6,7])\n",
    "liste2 = np.array([11,12,13,14,15,16,17])\n",
    "\n",
    "ep = np.append(ep, np.concatenate([liste1, liste2]))\n"
   ]
  },
  {
   "cell_type": "code",
   "execution_count": null,
   "metadata": {},
   "outputs": [
    {
     "data": {
      "text/plain": [
       "array([[ 1.,  2.,  3., 10., 20., 30., 40., 50., 60., 70.],\n",
       "       [ 5.,  6.,  7., 11., 12., 13., 14., 15., 16., 17.]])"
      ]
     },
     "execution_count": 22,
     "metadata": {},
     "output_type": "execute_result"
    }
   ],
   "source": [
    "ep.reshape(2, 10)"
   ]
  },
  {
   "cell_type": "code",
   "execution_count": 1,
   "metadata": {},
   "outputs": [
    {
     "data": {
      "text/plain": [
       "array([[ 24.,  44., 105., 124.],\n",
       "       [ 20.,   8., 125., 103.],\n",
       "       [ 38.,  43., 109., 104.],\n",
       "       [ 12.,  18., 103., 101.],\n",
       "       [ 35.,  36., 124., 142.],\n",
       "       [ 19.,  11., 120., 136.],\n",
       "       [ 37.,   6., 138., 113.],\n",
       "       [ 12.,  12., 126., 129.],\n",
       "       [ 30.,  27., 147., 100.],\n",
       "       [ 12.,   7., 146., 130.]])"
      ]
     },
     "execution_count": 1,
     "metadata": {},
     "output_type": "execute_result"
    }
   ],
   "source": [
    "import numpy as np\n",
    "np.random.seed(32)\n",
    "\n",
    "liste1 = [1,2,3]\n",
    "liste2 = [10,20,30,40,50,60,70]\n",
    "arr = np.array([])\n",
    "\n",
    "for i in range(10):\n",
    "    l1 = np.random.randint(1,50,size=(1,2))\n",
    "    l2 = np.random.randint(100,150,size=(1,2))\n",
    "    arr = np.append(arr, np.concatenate([l1,l2], axis=1))\n",
    "u = arr.reshape(10,4)\n",
    "u"
   ]
  },
  {
   "cell_type": "code",
   "execution_count": 2,
   "metadata": {},
   "outputs": [],
   "source": [
    "import pandas \n",
    "df = pandas.DataFrame(data = u, columns=(['col1', 'col2', 'col3', 'col4']))\n",
    "df['index'] = df.index\n",
    "df_1 = df.sort_values(by='col2', ascending=True)\n",
    "df_1['col2_score'] = range(len(df_1))"
   ]
  },
  {
   "cell_type": "code",
   "execution_count": 3,
   "metadata": {},
   "outputs": [
    {
     "data": {
      "text/html": [
       "<div>\n",
       "<style scoped>\n",
       "    .dataframe tbody tr th:only-of-type {\n",
       "        vertical-align: middle;\n",
       "    }\n",
       "\n",
       "    .dataframe tbody tr th {\n",
       "        vertical-align: top;\n",
       "    }\n",
       "\n",
       "    .dataframe thead th {\n",
       "        text-align: right;\n",
       "    }\n",
       "</style>\n",
       "<table border=\"1\" class=\"dataframe\">\n",
       "  <thead>\n",
       "    <tr style=\"text-align: right;\">\n",
       "      <th></th>\n",
       "      <th>col1</th>\n",
       "      <th>col2</th>\n",
       "      <th>col3</th>\n",
       "      <th>col4</th>\n",
       "      <th>index</th>\n",
       "      <th>col2_score</th>\n",
       "    </tr>\n",
       "  </thead>\n",
       "  <tbody>\n",
       "    <tr>\n",
       "      <th>6</th>\n",
       "      <td>37.0</td>\n",
       "      <td>6.0</td>\n",
       "      <td>138.0</td>\n",
       "      <td>113.0</td>\n",
       "      <td>6</td>\n",
       "      <td>0</td>\n",
       "    </tr>\n",
       "    <tr>\n",
       "      <th>9</th>\n",
       "      <td>12.0</td>\n",
       "      <td>7.0</td>\n",
       "      <td>146.0</td>\n",
       "      <td>130.0</td>\n",
       "      <td>9</td>\n",
       "      <td>1</td>\n",
       "    </tr>\n",
       "    <tr>\n",
       "      <th>1</th>\n",
       "      <td>20.0</td>\n",
       "      <td>8.0</td>\n",
       "      <td>125.0</td>\n",
       "      <td>103.0</td>\n",
       "      <td>1</td>\n",
       "      <td>2</td>\n",
       "    </tr>\n",
       "    <tr>\n",
       "      <th>5</th>\n",
       "      <td>19.0</td>\n",
       "      <td>11.0</td>\n",
       "      <td>120.0</td>\n",
       "      <td>136.0</td>\n",
       "      <td>5</td>\n",
       "      <td>3</td>\n",
       "    </tr>\n",
       "    <tr>\n",
       "      <th>7</th>\n",
       "      <td>12.0</td>\n",
       "      <td>12.0</td>\n",
       "      <td>126.0</td>\n",
       "      <td>129.0</td>\n",
       "      <td>7</td>\n",
       "      <td>4</td>\n",
       "    </tr>\n",
       "    <tr>\n",
       "      <th>3</th>\n",
       "      <td>12.0</td>\n",
       "      <td>18.0</td>\n",
       "      <td>103.0</td>\n",
       "      <td>101.0</td>\n",
       "      <td>3</td>\n",
       "      <td>5</td>\n",
       "    </tr>\n",
       "    <tr>\n",
       "      <th>8</th>\n",
       "      <td>30.0</td>\n",
       "      <td>27.0</td>\n",
       "      <td>147.0</td>\n",
       "      <td>100.0</td>\n",
       "      <td>8</td>\n",
       "      <td>6</td>\n",
       "    </tr>\n",
       "    <tr>\n",
       "      <th>4</th>\n",
       "      <td>35.0</td>\n",
       "      <td>36.0</td>\n",
       "      <td>124.0</td>\n",
       "      <td>142.0</td>\n",
       "      <td>4</td>\n",
       "      <td>7</td>\n",
       "    </tr>\n",
       "    <tr>\n",
       "      <th>2</th>\n",
       "      <td>38.0</td>\n",
       "      <td>43.0</td>\n",
       "      <td>109.0</td>\n",
       "      <td>104.0</td>\n",
       "      <td>2</td>\n",
       "      <td>8</td>\n",
       "    </tr>\n",
       "    <tr>\n",
       "      <th>0</th>\n",
       "      <td>24.0</td>\n",
       "      <td>44.0</td>\n",
       "      <td>105.0</td>\n",
       "      <td>124.0</td>\n",
       "      <td>0</td>\n",
       "      <td>9</td>\n",
       "    </tr>\n",
       "  </tbody>\n",
       "</table>\n",
       "</div>"
      ],
      "text/plain": [
       "   col1  col2   col3   col4  index  col2_score\n",
       "6  37.0   6.0  138.0  113.0      6           0\n",
       "9  12.0   7.0  146.0  130.0      9           1\n",
       "1  20.0   8.0  125.0  103.0      1           2\n",
       "5  19.0  11.0  120.0  136.0      5           3\n",
       "7  12.0  12.0  126.0  129.0      7           4\n",
       "3  12.0  18.0  103.0  101.0      3           5\n",
       "8  30.0  27.0  147.0  100.0      8           6\n",
       "4  35.0  36.0  124.0  142.0      4           7\n",
       "2  38.0  43.0  109.0  104.0      2           8\n",
       "0  24.0  44.0  105.0  124.0      0           9"
      ]
     },
     "execution_count": 3,
     "metadata": {},
     "output_type": "execute_result"
    }
   ],
   "source": [
    "df_1"
   ]
  },
  {
   "cell_type": "code",
   "execution_count": 112,
   "metadata": {},
   "outputs": [
    {
     "data": {
      "text/plain": [
       "['col2', 'col3', 'col4', 'index_', 'col2_score', 'col1']"
      ]
     },
     "execution_count": 112,
     "metadata": {},
     "output_type": "execute_result"
    }
   ],
   "source": [
    "df_1.columns[1:].to_list() + df_1.columns[0:1].to_list()"
   ]
  },
  {
   "cell_type": "code",
   "execution_count": 117,
   "metadata": {},
   "outputs": [
    {
     "data": {
      "text/html": [
       "<div>\n",
       "<style scoped>\n",
       "    .dataframe tbody tr th:only-of-type {\n",
       "        vertical-align: middle;\n",
       "    }\n",
       "\n",
       "    .dataframe tbody tr th {\n",
       "        vertical-align: top;\n",
       "    }\n",
       "\n",
       "    .dataframe thead th {\n",
       "        text-align: right;\n",
       "    }\n",
       "</style>\n",
       "<table border=\"1\" class=\"dataframe\">\n",
       "  <thead>\n",
       "    <tr style=\"text-align: right;\">\n",
       "      <th></th>\n",
       "      <th>col2_score</th>\n",
       "      <th>col1</th>\n",
       "      <th>col2</th>\n",
       "      <th>col3</th>\n",
       "      <th>col4</th>\n",
       "    </tr>\n",
       "  </thead>\n",
       "  <tbody>\n",
       "    <tr>\n",
       "      <th>6</th>\n",
       "      <td>0</td>\n",
       "      <td>37.0</td>\n",
       "      <td>6.0</td>\n",
       "      <td>138.0</td>\n",
       "      <td>113.0</td>\n",
       "    </tr>\n",
       "    <tr>\n",
       "      <th>9</th>\n",
       "      <td>1</td>\n",
       "      <td>12.0</td>\n",
       "      <td>7.0</td>\n",
       "      <td>146.0</td>\n",
       "      <td>130.0</td>\n",
       "    </tr>\n",
       "    <tr>\n",
       "      <th>1</th>\n",
       "      <td>2</td>\n",
       "      <td>20.0</td>\n",
       "      <td>8.0</td>\n",
       "      <td>125.0</td>\n",
       "      <td>103.0</td>\n",
       "    </tr>\n",
       "    <tr>\n",
       "      <th>5</th>\n",
       "      <td>3</td>\n",
       "      <td>19.0</td>\n",
       "      <td>11.0</td>\n",
       "      <td>120.0</td>\n",
       "      <td>136.0</td>\n",
       "    </tr>\n",
       "    <tr>\n",
       "      <th>7</th>\n",
       "      <td>4</td>\n",
       "      <td>12.0</td>\n",
       "      <td>12.0</td>\n",
       "      <td>126.0</td>\n",
       "      <td>129.0</td>\n",
       "    </tr>\n",
       "    <tr>\n",
       "      <th>3</th>\n",
       "      <td>5</td>\n",
       "      <td>12.0</td>\n",
       "      <td>18.0</td>\n",
       "      <td>103.0</td>\n",
       "      <td>101.0</td>\n",
       "    </tr>\n",
       "    <tr>\n",
       "      <th>8</th>\n",
       "      <td>6</td>\n",
       "      <td>30.0</td>\n",
       "      <td>27.0</td>\n",
       "      <td>147.0</td>\n",
       "      <td>100.0</td>\n",
       "    </tr>\n",
       "    <tr>\n",
       "      <th>4</th>\n",
       "      <td>7</td>\n",
       "      <td>35.0</td>\n",
       "      <td>36.0</td>\n",
       "      <td>124.0</td>\n",
       "      <td>142.0</td>\n",
       "    </tr>\n",
       "    <tr>\n",
       "      <th>2</th>\n",
       "      <td>8</td>\n",
       "      <td>38.0</td>\n",
       "      <td>43.0</td>\n",
       "      <td>109.0</td>\n",
       "      <td>104.0</td>\n",
       "    </tr>\n",
       "    <tr>\n",
       "      <th>0</th>\n",
       "      <td>9</td>\n",
       "      <td>24.0</td>\n",
       "      <td>44.0</td>\n",
       "      <td>105.0</td>\n",
       "      <td>124.0</td>\n",
       "    </tr>\n",
       "  </tbody>\n",
       "</table>\n",
       "</div>"
      ],
      "text/plain": [
       "   col2_score  col1  col2   col3   col4\n",
       "6           0  37.0   6.0  138.0  113.0\n",
       "9           1  12.0   7.0  146.0  130.0\n",
       "1           2  20.0   8.0  125.0  103.0\n",
       "5           3  19.0  11.0  120.0  136.0\n",
       "7           4  12.0  12.0  126.0  129.0\n",
       "3           5  12.0  18.0  103.0  101.0\n",
       "8           6  30.0  27.0  147.0  100.0\n",
       "4           7  35.0  36.0  124.0  142.0\n",
       "2           8  38.0  43.0  109.0  104.0\n",
       "0           9  24.0  44.0  105.0  124.0"
      ]
     },
     "execution_count": 117,
     "metadata": {},
     "output_type": "execute_result"
    }
   ],
   "source": [
    "df_1[df_1.columns[-1:].tolist() + df.columns[:-1].tolist()]"
   ]
  },
  {
   "cell_type": "code",
   "execution_count": 4,
   "metadata": {},
   "outputs": [],
   "source": [
    "df_1['total'] = df_1['col1'] + df_1['col2'] + df_1['col3'] + df_1['col4']"
   ]
  },
  {
   "cell_type": "code",
   "execution_count": 5,
   "metadata": {},
   "outputs": [
    {
     "data": {
      "text/html": [
       "<div>\n",
       "<style scoped>\n",
       "    .dataframe tbody tr th:only-of-type {\n",
       "        vertical-align: middle;\n",
       "    }\n",
       "\n",
       "    .dataframe tbody tr th {\n",
       "        vertical-align: top;\n",
       "    }\n",
       "\n",
       "    .dataframe thead th {\n",
       "        text-align: right;\n",
       "    }\n",
       "</style>\n",
       "<table border=\"1\" class=\"dataframe\">\n",
       "  <thead>\n",
       "    <tr style=\"text-align: right;\">\n",
       "      <th></th>\n",
       "      <th>col1</th>\n",
       "      <th>col2</th>\n",
       "      <th>col3</th>\n",
       "      <th>col4</th>\n",
       "      <th>col2_score</th>\n",
       "      <th>total</th>\n",
       "    </tr>\n",
       "  </thead>\n",
       "  <tbody>\n",
       "    <tr>\n",
       "      <th>6</th>\n",
       "      <td>37.0</td>\n",
       "      <td>6.0</td>\n",
       "      <td>138.0</td>\n",
       "      <td>113.0</td>\n",
       "      <td>0</td>\n",
       "      <td>294.0</td>\n",
       "    </tr>\n",
       "    <tr>\n",
       "      <th>9</th>\n",
       "      <td>12.0</td>\n",
       "      <td>7.0</td>\n",
       "      <td>146.0</td>\n",
       "      <td>130.0</td>\n",
       "      <td>1</td>\n",
       "      <td>295.0</td>\n",
       "    </tr>\n",
       "    <tr>\n",
       "      <th>1</th>\n",
       "      <td>20.0</td>\n",
       "      <td>8.0</td>\n",
       "      <td>125.0</td>\n",
       "      <td>103.0</td>\n",
       "      <td>2</td>\n",
       "      <td>256.0</td>\n",
       "    </tr>\n",
       "    <tr>\n",
       "      <th>5</th>\n",
       "      <td>19.0</td>\n",
       "      <td>11.0</td>\n",
       "      <td>120.0</td>\n",
       "      <td>136.0</td>\n",
       "      <td>3</td>\n",
       "      <td>286.0</td>\n",
       "    </tr>\n",
       "    <tr>\n",
       "      <th>7</th>\n",
       "      <td>12.0</td>\n",
       "      <td>12.0</td>\n",
       "      <td>126.0</td>\n",
       "      <td>129.0</td>\n",
       "      <td>4</td>\n",
       "      <td>279.0</td>\n",
       "    </tr>\n",
       "    <tr>\n",
       "      <th>3</th>\n",
       "      <td>12.0</td>\n",
       "      <td>18.0</td>\n",
       "      <td>103.0</td>\n",
       "      <td>101.0</td>\n",
       "      <td>5</td>\n",
       "      <td>234.0</td>\n",
       "    </tr>\n",
       "    <tr>\n",
       "      <th>8</th>\n",
       "      <td>30.0</td>\n",
       "      <td>27.0</td>\n",
       "      <td>147.0</td>\n",
       "      <td>100.0</td>\n",
       "      <td>6</td>\n",
       "      <td>304.0</td>\n",
       "    </tr>\n",
       "    <tr>\n",
       "      <th>4</th>\n",
       "      <td>35.0</td>\n",
       "      <td>36.0</td>\n",
       "      <td>124.0</td>\n",
       "      <td>142.0</td>\n",
       "      <td>7</td>\n",
       "      <td>337.0</td>\n",
       "    </tr>\n",
       "    <tr>\n",
       "      <th>2</th>\n",
       "      <td>38.0</td>\n",
       "      <td>43.0</td>\n",
       "      <td>109.0</td>\n",
       "      <td>104.0</td>\n",
       "      <td>8</td>\n",
       "      <td>294.0</td>\n",
       "    </tr>\n",
       "    <tr>\n",
       "      <th>0</th>\n",
       "      <td>24.0</td>\n",
       "      <td>44.0</td>\n",
       "      <td>105.0</td>\n",
       "      <td>124.0</td>\n",
       "      <td>9</td>\n",
       "      <td>297.0</td>\n",
       "    </tr>\n",
       "  </tbody>\n",
       "</table>\n",
       "</div>"
      ],
      "text/plain": [
       "   col1  col2   col3   col4  col2_score  total\n",
       "6  37.0   6.0  138.0  113.0           0  294.0\n",
       "9  12.0   7.0  146.0  130.0           1  295.0\n",
       "1  20.0   8.0  125.0  103.0           2  256.0\n",
       "5  19.0  11.0  120.0  136.0           3  286.0\n",
       "7  12.0  12.0  126.0  129.0           4  279.0\n",
       "3  12.0  18.0  103.0  101.0           5  234.0\n",
       "8  30.0  27.0  147.0  100.0           6  304.0\n",
       "4  35.0  36.0  124.0  142.0           7  337.0\n",
       "2  38.0  43.0  109.0  104.0           8  294.0\n",
       "0  24.0  44.0  105.0  124.0           9  297.0"
      ]
     },
     "execution_count": 5,
     "metadata": {},
     "output_type": "execute_result"
    }
   ],
   "source": [
    "df_1"
   ]
  },
  {
   "cell_type": "code",
   "execution_count": 6,
   "metadata": {},
   "outputs": [
    {
     "name": "stdout",
     "output_type": "stream",
     "text": [
      "31\n",
      "41\n"
     ]
    },
    {
     "ename": "TypeError",
     "evalue": "'int' object is not iterable",
     "output_type": "error",
     "traceback": [
      "\u001b[1;31m---------------------------------------------------------------------------\u001b[0m",
      "\u001b[1;31mTypeError\u001b[0m                                 Traceback (most recent call last)",
      "\u001b[1;32mc:\\Users\\anerg\\OneDrive\\Belgeler\\CODING\\PROJECTS.py\\AISMTB\\worksheet.ipynb Cell 50\u001b[0m line \u001b[0;36m5\n\u001b[0;32m      <a href='vscode-notebook-cell:/c%3A/Users/anerg/OneDrive/Belgeler/CODING/PROJECTS.py/AISMTB/worksheet.ipynb#Y100sZmlsZQ%3D%3D?line=1'>2</a>\u001b[0m de2 \u001b[39m=\u001b[39m [\u001b[39m30\u001b[39m,\u001b[39m40\u001b[39m]\n\u001b[0;32m      <a href='vscode-notebook-cell:/c%3A/Users/anerg/OneDrive/Belgeler/CODING/PROJECTS.py/AISMTB/worksheet.ipynb#Y100sZmlsZQ%3D%3D?line=3'>4</a>\u001b[0m \u001b[39mfor\u001b[39;00m de1 \u001b[39min\u001b[39;00m de1:\n\u001b[1;32m----> <a href='vscode-notebook-cell:/c%3A/Users/anerg/OneDrive/Belgeler/CODING/PROJECTS.py/AISMTB/worksheet.ipynb#Y100sZmlsZQ%3D%3D?line=4'>5</a>\u001b[0m     \u001b[39mfor\u001b[39;00m de2 \u001b[39min\u001b[39;00m de2:\n\u001b[0;32m      <a href='vscode-notebook-cell:/c%3A/Users/anerg/OneDrive/Belgeler/CODING/PROJECTS.py/AISMTB/worksheet.ipynb#Y100sZmlsZQ%3D%3D?line=5'>6</a>\u001b[0m         \u001b[39mprint\u001b[39m(de1 \u001b[39m+\u001b[39m de2)\n",
      "\u001b[1;31mTypeError\u001b[0m: 'int' object is not iterable"
     ]
    }
   ],
   "source": [
    "de1 = [1,2,3]\n",
    "de2 = [30,40]\n",
    "\n",
    "for de1 in de1:\n",
    "    for de2 in de2:\n",
    "        print(de1 + de2)"
   ]
  }
 ],
 "metadata": {
  "kernelspec": {
   "display_name": "Python 3",
   "language": "python",
   "name": "python3"
  },
  "language_info": {
   "codemirror_mode": {
    "name": "ipython",
    "version": 3
   },
   "file_extension": ".py",
   "mimetype": "text/x-python",
   "name": "python",
   "nbconvert_exporter": "python",
   "pygments_lexer": "ipython3",
   "version": "3.10.5"
  },
  "orig_nbformat": 4
 },
 "nbformat": 4,
 "nbformat_minor": 2
}
